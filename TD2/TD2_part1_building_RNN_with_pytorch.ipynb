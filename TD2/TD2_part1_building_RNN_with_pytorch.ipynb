{
 "cells": [
  {
   "cell_type": "markdown",
   "id": "895a119a",
   "metadata": {
    "pycharm": {
     "name": "#%% md\n"
    }
   },
   "source": [
    "# Building RNN with Pytorch\n",
    "\n",
    "Dans ce TD, nous allons construire un RNN from scratch avec Pytorch, en suivant les étapes suivantes:\n",
    "1. Sur un problème linéaire, nous allons utiliser les torch optimizers pour trouver le paramètre de régression idéal\n",
    "2. Sur un problème non-linéaire, nous allons construire un multi-layers perceptron\n",
    "3. Sur un problème de texte, nous allons construire un modèle RNN"
   ]
  },
  {
   "cell_type": "code",
   "execution_count": 1,
   "id": "9929e27d",
   "metadata": {
    "pycharm": {
     "name": "#%%\n"
    }
   },
   "outputs": [],
   "source": [
    "import matplotlib.pyplot as plt\n",
    "import numpy as np\n",
    "import torch"
   ]
  },
  {
   "cell_type": "markdown",
   "id": "511cfa9c",
   "metadata": {
    "pycharm": {
     "name": "#%% md\n"
    }
   },
   "source": [
    "## Optimizers\n",
    "\n",
    "### Données example\n",
    "Nous allons construire des données $y = \\beta^* X + b$\n"
   ]
  },
  {
   "cell_type": "code",
   "execution_count": 2,
   "id": "81d004af",
   "metadata": {
    "pycharm": {
     "name": "#%%\n"
    }
   },
   "outputs": [
    {
     "data": {
      "text/plain": "[<matplotlib.lines.Line2D at 0x1ad2efc7af0>]"
     },
     "execution_count": 2,
     "metadata": {},
     "output_type": "execute_result"
    },
    {
     "data": {
      "text/plain": "<Figure size 432x288 with 1 Axes>",
      "image/png": "[encoded data removed]"
     },
     "metadata": {
      "needs_background": "light"
     },
     "output_type": "display_data"
    }
   ],
   "source": [
    "n = 100\n",
    "\n",
    "a_star = 3.\n",
    "b_star = -3.\n",
    "noise_std = 1\n",
    "\n",
    "x = (np.random.rand(n, 1) - 0.5) * 4\n",
    "noise = np.random.normal(0, noise_std, (n, 1))\n",
    "y = a_star * x + b_star + noise\n",
    "\n",
    "x = torch.tensor(x, dtype=torch.float32)\n",
    "\n",
    "y = torch.tensor(y, dtype=torch.float32)\n",
    "\n",
    "xvec = x\n",
    "plt.plot(x, y, 'o', markersize=10)"
   ]
  },
  {
   "cell_type": "markdown",
   "id": "a30c3616",
   "metadata": {
    "pycharm": {
     "name": "#%% md\n"
    }
   },
   "source": [
    "### Constuire l'optimizer\n",
    "\n",
    "- Avec torch.nn.Parameter(), créer le paramètre beta qui sera optimisé. Les predictions du modèle sont égales à $\\beta \\times X$ \n",
    "- Avec torch.nn.MSELoss, déclarer la loss entre les prédictions et le résultat réel. loss.backward() pour mettre à jour les gradients\n",
    "- Avec torch.optim.Adam, déclarer un optimizer\n",
    "- Construisez la boucle qui, pour n_epochs, va reset les gradients, calculer la loss, mettre à jour les gradients et faire un pas pour optimiser beta"
   ]
  },
  {
   "cell_type": "code",
   "execution_count": 3,
   "id": "d5af62a0",
   "metadata": {
    "pycharm": {
     "name": "#%%\n"
    }
   },
   "outputs": [
    {
     "name": "stdout",
     "output_type": "stream",
     "text": [
      "Loss: 26.671796798706055\n",
      "Loss: 13.526625633239746\n",
      "Loss: 6.1566972732543945\n",
      "Loss: 3.014341115951538\n",
      "Loss: 1.7428654432296753\n",
      "Loss: 1.1342802047729492\n",
      "Loss: 0.9267709851264954\n",
      "Loss: 0.9078333973884583\n",
      "Loss: 0.9112938046455383\n",
      "Loss: 0.9086355566978455\n"
     ]
    }
   ],
   "source": [
    "beta = torch.nn.Parameter(torch.tensor(1.0))  # Paramètre à optimiser\n",
    "alpha = torch.nn.Parameter(torch.tensor(1.0))  # Paramètre à optimiser\n",
    "criterion = torch.nn.MSELoss()  # Loss\n",
    "optimizer = torch.optim.Adam([beta, alpha], lr=0.1)  # Optimizer\n",
    "\n",
    "n_epochs = 100\n",
    "for i in range(n_epochs):\n",
    "    optimizer.zero_grad()  # Reset des gradients\n",
    "    y_pred = x * beta + alpha  # Prédictions\n",
    "    loss = criterion(y_pred, y)  # Calcul de la loss\n",
    "    loss.backward()  # mise à jour des gradients\n",
    "    optimizer.step()  # Mise à jour des paramètres\n",
    "\n",
    "    if i % 10 == 0:\n",
    "        print(\"Loss:\", loss.item())\n"
   ]
  },
  {
   "cell_type": "code",
   "execution_count": 4,
   "id": "b669ad46",
   "metadata": {
    "pycharm": {
     "name": "#%%\n"
    }
   },
   "outputs": [
    {
     "data": {
      "text/plain": "<Figure size 432x288 with 1 Axes>",
      "image/png": "[encoded data removed]"
     },
     "metadata": {
      "needs_background": "light"
     },
     "output_type": "display_data"
    }
   ],
   "source": [
    "# Affichage des données et de la droite ajustée\n",
    "xvec = torch.linspace(-2, 2, 100)  # Génère 100 valeurs pour l'affichage\n",
    "y_pred = beta * xvec + alpha\n",
    "plt.plot(x, y, 'o', markersize=10, label='Données')\n",
    "plt.plot(xvec, y_pred.detach(), '*', markersize=5, label='Prédiction')\n",
    "plt.legend()\n",
    "plt.xlabel('x')\n",
    "plt.ylabel('y')\n",
    "plt.show()"
   ]
  },
  {
   "cell_type": "markdown",
   "id": "bc7664db",
   "metadata": {
    "pycharm": {
     "name": "#%% md\n"
    }
   },
   "source": [
    "## Construire un multi-layer perceptron (MLP)"
   ]
  },
  {
   "cell_type": "markdown",
   "id": "1270600a",
   "metadata": {
    "pycharm": {
     "name": "#%% md\n"
    }
   },
   "source": [
    "Ici, les données sont $y = a x^2 + b$"
   ]
  },
  {
   "cell_type": "code",
   "execution_count": 5,
   "id": "ad053927",
   "metadata": {
    "pycharm": {
     "name": "#%%\n"
    }
   },
   "outputs": [
    {
     "data": {
      "text/plain": "[<matplotlib.lines.Line2D at 0x1ad3b117670>]"
     },
     "execution_count": 5,
     "metadata": {},
     "output_type": "execute_result"
    },
    {
     "data": {
      "text/plain": "<Figure size 432x288 with 1 Axes>",
      "image/png": "[encoded data removed]"
     },
     "metadata": {
      "needs_background": "light"
     },
     "output_type": "display_data"
    }
   ],
   "source": [
    "n = 100\n",
    "\n",
    "a_star = 3.\n",
    "b_star = -3.\n",
    "noise_std = 1\n",
    "\n",
    "x = (np.random.rand(n, 1) - 0.5) * 4\n",
    "noise = np.random.normal(0, noise_std, (n, 1))\n",
    "y = a_star * (x ** 2) + b_star + noise\n",
    "\n",
    "x = torch.tensor(x, dtype=torch.float32)\n",
    "y = torch.tensor(y, dtype=torch.float32)\n",
    "\n",
    "xvec = x\n",
    "plt.plot(x, y, 'o', markersize=10)"
   ]
  },
  {
   "cell_type": "markdown",
   "id": "5d285840",
   "metadata": {
    "pycharm": {
     "name": "#%% md\n"
    }
   },
   "source": [
    "Nous allons construire un Pytorch modèle. Dans ce framework, on définit la fonction \"forward\" qui prend en argument les inputs et retourne les prédictions.\n",
    "\n",
    "A l'aide de torch.nn.Module et de différentes layers (torch.nn.Linear, torch.nn.ReLU), terminez la classe ci-dessous pour créer un multi-layers perceptron "
   ]
  },
  {
   "cell_type": "code",
   "execution_count": 6,
   "id": "35fe1d5e",
   "metadata": {
    "pycharm": {
     "name": "#%%\n"
    }
   },
   "outputs": [],
   "source": [
    "# Définir un modèle MLP\n",
    "class MLP(torch.nn.Module):\n",
    "    def __init__(self, input_size, hidden_size, output_size):\n",
    "        super(MLP, self).__init__()\n",
    "        self.fc1 = torch.nn.Linear(input_size, hidden_size)\n",
    "        self.relu = torch.nn.ReLU()\n",
    "        self.fc2 = torch.nn.Linear(hidden_size, output_size)\n",
    "\n",
    "    def forward(self, x):\n",
    "        x = self.fc1(x)\n",
    "        x = self.relu(x)\n",
    "        x = self.fc2(x)\n",
    "        return x"
   ]
  },
  {
   "cell_type": "markdown",
   "id": "a6678cd7",
   "metadata": {
    "pycharm": {
     "name": "#%% md\n"
    }
   },
   "source": [
    "En utilisant le travail précédent, faite une cellule utilisant un torch optimizer pour optimiser le MLP "
   ]
  },
  {
   "cell_type": "code",
   "execution_count": 7,
   "id": "b80e23d5",
   "metadata": {
    "pycharm": {
     "name": "#%%\n"
    }
   },
   "outputs": [
    {
     "name": "stdout",
     "output_type": "stream",
     "text": [
      "Loss: 12.776091575622559\n",
      "Loss: 1.2883206605911255\n",
      "Loss: 0.9627636671066284\n",
      "Loss: 0.8414241075515747\n",
      "Loss: 0.8018651008605957\n",
      "Loss: 0.7792242169380188\n",
      "Loss: 0.7614870667457581\n",
      "Loss: 0.7591982483863831\n",
      "Loss: 0.7551653981208801\n",
      "Loss: 0.7532901763916016\n"
     ]
    }
   ],
   "source": [
    "model = MLP(1, 32, 1)\n",
    "criterion = torch.nn.MSELoss()  # Loss\n",
    "optimizer = torch.optim.Adam(model.parameters(), lr=0.1)  # Optimizer\n",
    "\n",
    "n_epochs = 100\n",
    "for i in range(n_epochs):\n",
    "    optimizer.zero_grad()  # Reset des gradients\n",
    "    y_pred = model(x)  # Prédictions\n",
    "    loss = criterion(y_pred, y)  # Calcul de la loss\n",
    "    loss.backward()  # mise à jour des gradients\n",
    "    optimizer.step()  # Mise à jour des paramètres\n",
    "\n",
    "    if i % 10 == 0:\n",
    "        print(\"Loss:\", loss.item())"
   ]
  },
  {
   "cell_type": "code",
   "execution_count": 8,
   "id": "2b056a8e",
   "metadata": {
    "pycharm": {
     "name": "#%%\n"
    }
   },
   "outputs": [
    {
     "data": {
      "text/plain": "<Figure size 432x288 with 1 Axes>",
      "image/png": "[encoded data removed]"
     },
     "metadata": {
      "needs_background": "light"
     },
     "output_type": "display_data"
    }
   ],
   "source": [
    "# Afficher le résultat\n",
    "plt.plot(x, y, 'o', markersize=10, label='Données réelles')\n",
    "plt.plot(x, y_pred.detach(), '*', linewidth=2, label='Prédictions')\n",
    "plt.legend()\n",
    "plt.xlabel('x')\n",
    "plt.ylabel('y')\n",
    "plt.show()"
   ]
  },
  {
   "cell_type": "markdown",
   "id": "6b679a74",
   "metadata": {
    "pycharm": {
     "name": "#%% md\n"
    }
   },
   "source": [
    "## Construire un Recurrent Neural Network (RNN) from scratch"
   ]
  },
  {
   "cell_type": "markdown",
   "id": "69393034",
   "metadata": {
    "pycharm": {
     "name": "#%% md\n"
    }
   },
   "source": []
  },
  {
   "cell_type": "markdown",
   "id": "f8e33ad1",
   "metadata": {
    "pycharm": {
     "name": "#%% md\n"
    }
   },
   "source": [
    "### Aide pour générer les données\n",
    "\n",
    "A la fin de ce code, on lit les noms et leur pays d'origine.<br>\n",
    "On a une fonction randomTrainingExample, qui génère le pays d'origine et le nom (en texte), puis l'ID de ce pays et le tenseur représetant le nom. <br>\n",
    "\n",
    "A partir de là, vous pouvez générer les données X, y comme vous voulez"
   ]
  },
  {
   "cell_type": "code",
   "execution_count": 9,
   "id": "8669e66d",
   "metadata": {
    "scrolled": true,
    "pycharm": {
     "name": "#%%\n"
    }
   },
   "outputs": [],
   "source": [
    "# Code pour générer le jeu de données\n",
    "# En admettant que les fichiers ont été extraits dans data/raw/names/\n",
    "\n",
    "import math\n",
    "import numpy as np\n",
    "from pathlib import Path\n",
    "import random\n",
    "import string\n",
    "import time\n",
    "import unicodedata\n",
    "\n",
    "path = Path(\"../data/raw/names/\")"
   ]
  },
  {
   "cell_type": "code",
   "execution_count": 10,
   "id": "5ed6fb05",
   "metadata": {
    "pycharm": {
     "name": "#%%\n"
    }
   },
   "outputs": [],
   "source": [
    "def read_names(path):\n",
    "    category_lines = {}\n",
    "    for file in path.iterdir():\n",
    "        if not file.name.endswith(\".txt\"):\n",
    "            continue\n",
    "\n",
    "        with open(file, encoding=\"utf8\") as f:\n",
    "            names = [unicodeToAscii(line.strip()) for line in f]\n",
    "\n",
    "        category = file.stem\n",
    "        category_lines[category] = names\n",
    "\n",
    "    return category_lines\n",
    "\n",
    "\n",
    "# Handling ASCII stuff\n",
    "all_letters = string.ascii_letters + \" .,;'\"\n",
    "n_letters = len(all_letters)\n",
    "\n",
    "\n",
    "# Turn a Unicode string to plain ASCII, thanks to https://stackoverflow.com/a/518232/2809427\n",
    "def unicodeToAscii(s):\n",
    "    return ''.join(\n",
    "        c for c in unicodedata.normalize('NFD', s)\n",
    "        if unicodedata.category(c) != 'Mn'\n",
    "        and c in all_letters\n",
    "    )"
   ]
  },
  {
   "cell_type": "code",
   "execution_count": 11,
   "id": "bfc37069",
   "metadata": {
    "pycharm": {
     "name": "#%%\n"
    }
   },
   "outputs": [],
   "source": [
    "category_lines = read_names(path)\n",
    "all_categories = list(category_lines.keys())\n",
    "n_categories = len(all_categories)"
   ]
  },
  {
   "cell_type": "code",
   "execution_count": 12,
   "id": "312870b8",
   "metadata": {
    "pycharm": {
     "name": "#%%\n"
    }
   },
   "outputs": [],
   "source": [
    "import torch\n",
    "\n",
    "\n",
    "# Find letter index from all_letters, e.g. \"a\" = 0\n",
    "def letterToIndex(letter):\n",
    "    return all_letters.find(letter)\n",
    "\n",
    "\n",
    "# Just for demonstration, turn a letter into a <1 x n_letters> Tensor\n",
    "def letterToTensor(letter):\n",
    "    tensor = torch.zeros(1, n_letters)\n",
    "    tensor[0][letterToIndex(letter)] = 1\n",
    "    return tensor\n",
    "\n",
    "\n",
    "# Turn a line into a <line_length x 1 x n_letters>,\n",
    "# or an array of one-hot letter vectors\n",
    "def lineToTensor(line):\n",
    "    tensor = torch.zeros(len(line), 1, n_letters)\n",
    "    for li, letter in enumerate(line):\n",
    "        tensor[li][0][letterToIndex(letter)] = 1\n",
    "    return tensor"
   ]
  },
  {
   "cell_type": "code",
   "execution_count": 13,
   "id": "0b606108",
   "metadata": {
    "pycharm": {
     "name": "#%%\n"
    }
   },
   "outputs": [
    {
     "name": "stdout",
     "output_type": "stream",
     "text": [
      "category = German / line = Auttenberg\n",
      "category = Portuguese / line = Ribeiro\n",
      "category = Czech / line = Kvasnicka\n",
      "category = Korean / line = Ku\n",
      "category = Arabic / line = Bishara\n",
      "category = Polish / line = Jaskulski\n",
      "category = Arabic / line = Gerges\n",
      "category = French / line = Deniau\n",
      "category = English / line = Forrest\n",
      "category = German / line = Janson\n"
     ]
    }
   ],
   "source": [
    "def randomChoice(l):\n",
    "    return l[random.randint(0, len(l) - 1)]\n",
    "\n",
    "\n",
    "def randomTrainingExample():\n",
    "    category = randomChoice(all_categories)\n",
    "    line = randomChoice(category_lines[category])\n",
    "    category_tensor = torch.tensor([all_categories.index(category)], dtype=torch.int64)\n",
    "    line_tensor = lineToTensor(line)\n",
    "    return category, line, category_tensor, line_tensor\n",
    "\n",
    "\n",
    "for i in range(10):\n",
    "    category, line, category_tensor, line_tensor = randomTrainingExample()\n",
    "    print('category =', category, '/ line =', line)"
   ]
  },
  {
   "cell_type": "markdown",
   "id": "199a9224",
   "metadata": {
    "pycharm": {
     "name": "#%% md\n"
    }
   },
   "source": [
    "### Construire le RNN\n",
    "\n",
    "Un Recurrent Neural Network prend, pour prédire un input X et un hidden state H.<br>\n",
    "Il output une prédiction et un nouvel hidden state pour la prochaine étape.<br>\n",
    "Nous allons construire un modèle:\n",
    "\n",
    "$f(name, H_0) = (proba(\\mbox{name from country 0}), proba(\\mbox{name from country 1}), \\dots)$\n",
    "\n",
    "Avec $H_0$ un hidden state initial (qui sera appris).\n",
    "\n",
    "Pour l'instant, nous allons construire un RNN linéaire.<br>\n",
    "Comme pour le MLP, construisez un torch.nn.Module:\n",
    "- A l'init, la classe prendra les arguments input_size, hidden_state_dim, output_size\n",
    "- L'init déclare un paramètre pour l'hidden state initial $H_0$, une layer linéaire prenant (input, hidden_state) -> output_size\n",
    "- Le forward fonctionnera ainsi:\n",
    "    - hidden_state = $H_0$\n",
    "    - For letter in name:\n",
    "        - x = one-hot encode (letter)\n",
    "        - output, hidden_state = linear_layer(x, hidden_state)\n",
    "    - return softmax(output)"
   ]
  },
  {
   "cell_type": "code",
   "execution_count": 14,
   "outputs": [],
   "source": [
    "from torch import randn\n",
    "\n",
    "\n",
    "class RNN(torch.nn.Module):\n",
    "    def __init__(self, input_size, hidden_state_dim, output_size):\n",
    "        super(RNN, self).__init__()\n",
    "        self.hidden_size = hidden_state_dim\n",
    "        self.hidden_state = torch.nn.Parameter(randn(hidden_state_dim))  # Paramètre à optimiser\n",
    "        self.linear = torch.nn.Linear(input_size + hidden_state_dim, hidden_state_dim)  # Layer linéaire\n",
    "        self.hidden_to_output = torch.nn.Linear(hidden_state_dim, output_size)\n",
    "\n",
    "    def forward(self, input):\n",
    "        hidden_state = self.hidden_state  # Ajouter une dimension à hidden_state\n",
    "\n",
    "        for i in range(input.size()[0]):\n",
    "            x = input[i]\n",
    "            combined = torch.cat((x, hidden_state))  # Concaténation de l'input et de l'hidden state\n",
    "            hidden_state = self.linear(combined)  # Linear layer\n",
    "\n",
    "        output = self.hidden_to_output(hidden_state)\n",
    "        return torch.nn.functional.log_softmax(output, dim=0)  # Softmax sur l'output\n"
   ],
   "metadata": {
    "collapsed": false,
    "pycharm": {
     "name": "#%%\n"
    }
   }
  },
  {
   "cell_type": "code",
   "execution_count": 29,
   "id": "dce66341",
   "metadata": {
    "pycharm": {
     "name": "#%%\n"
    }
   },
   "outputs": [
    {
     "ename": "TypeError",
     "evalue": "randomTrainingExample() missing 1 required positional argument: 'dataloader'",
     "output_type": "error",
     "traceback": [
      "\u001B[1;31m---------------------------------------------------------------------------\u001B[0m",
      "\u001B[1;31mTypeError\u001B[0m                                 Traceback (most recent call last)",
      "Input \u001B[1;32mIn [29]\u001B[0m, in \u001B[0;36m<cell line: 12>\u001B[1;34m()\u001B[0m\n\u001B[0;32m     12\u001B[0m \u001B[38;5;28;01mfor\u001B[39;00m epoch \u001B[38;5;129;01min\u001B[39;00m \u001B[38;5;28mrange\u001B[39m(n_epochs):\n\u001B[0;32m     13\u001B[0m     optimizer\u001B[38;5;241m.\u001B[39mzero_grad()\n\u001B[1;32m---> 14\u001B[0m     category, line, category_tensor, line_tensor \u001B[38;5;241m=\u001B[39m \u001B[43mrandomTrainingExample\u001B[49m\u001B[43m(\u001B[49m\u001B[43m)\u001B[49m \u001B[38;5;66;03m# Génère un exemple aléatoire\u001B[39;00m\n\u001B[0;32m     15\u001B[0m     line_tensor \u001B[38;5;241m=\u001B[39m line_tensor\u001B[38;5;241m.\u001B[39msqueeze()\n\u001B[0;32m     16\u001B[0m     output \u001B[38;5;241m=\u001B[39m rnn(line_tensor)\n",
      "\u001B[1;31mTypeError\u001B[0m: randomTrainingExample() missing 1 required positional argument: 'dataloader'"
     ]
    }
   ],
   "source": [
    "rnn = RNN(n_letters, 128, n_categories)\n",
    "learning_rate = 0.0001\n",
    "rnn.zero_grad()\n",
    "optimizer = torch.optim.Adam(rnn.parameters(), lr=learning_rate)\n",
    "n_epochs = 10000\n",
    "\n",
    "criterion = torch.nn.NLLLoss()\n",
    "# liste 0 to 1000\n",
    "epochs = [i for i in range(0, n_epochs, 1000)]\n",
    "losses = []\n",
    "\n",
    "for epoch in range(n_epochs):\n",
    "    optimizer.zero_grad()\n",
    "    category, line, category_tensor, line_tensor = randomTrainingExample()  # Génère un exemple aléatoire\n",
    "    line_tensor = line_tensor.squeeze()\n",
    "    output = rnn(line_tensor)\n",
    "    loss = criterion(output.unsqueeze(0), category_tensor)\n",
    "    loss.backward()\n",
    "    optimizer.step()\n",
    "\n",
    "    if epoch % 1000 == 0:\n",
    "        losses.append(loss.item())\n",
    "        print(\"Loss:\", np.mean(losses[-1000:]))"
   ]
  },
  {
   "cell_type": "code",
   "execution_count": 16,
   "outputs": [
    {
     "data": {
      "text/plain": "[<matplotlib.lines.Line2D at 0x1ad3b30cd90>]"
     },
     "execution_count": 16,
     "metadata": {},
     "output_type": "execute_result"
    },
    {
     "data": {
      "text/plain": "<Figure size 432x288 with 1 Axes>",
      "image/png": "[encoded data removed]"
     },
     "metadata": {
      "needs_background": "light"
     },
     "output_type": "display_data"
    }
   ],
   "source": [
    "plt.plot(epochs, losses, label='Loss', )"
   ],
   "metadata": {
    "collapsed": false,
    "pycharm": {
     "name": "#%%\n"
    }
   }
  },
  {
   "cell_type": "markdown",
   "id": "a2625860",
   "metadata": {
    "pycharm": {
     "name": "#%% md\n"
    }
   },
   "source": [
    "## Utilisez les RNNs de Pytorch\n",
    "\n",
    "Sur le même jeu de données, nous allons utiliser les RNNs déjà codés par Pytorch.<br>"
   ]
  },
  {
   "cell_type": "markdown",
   "id": "264251cf",
   "metadata": {
    "pycharm": {
     "name": "#%% md\n"
    }
   },
   "source": [
    "### Padding\n",
    "\n",
    "Nous voulons aussi utiliser des tenseurs X et y pour utiliser data loader pour les batchs, etc\n",
    "\n",
    "\n",
    "Avec du padding, créer un tenseur X de la taille (nb_data, name_max_length, vocab_size). <br>\n",
    "X[i, j, :] contient le one-hot encode de la j-ème lettre du i-ème prénom. Si le i-ème prénom a moins de j lettre, alors X[i, j, :] est un vecteur nul"
   ]
  },
  {
   "cell_type": "code",
   "execution_count": 21,
   "outputs": [
    {
     "name": "stdout",
     "output_type": "stream",
     "text": [
      "torch.Size([20074, 19, 57]) torch.Size([20074])\n"
     ]
    }
   ],
   "source": [
    "# Utiliser data loader pour les batchs\n",
    "from torch.utils.data import DataLoader, TensorDataset\n",
    "\n",
    "# Trouver la longueur maximale des prénoms\n",
    "name_max_length = max(len(name) for names in category_lines.values() for name in names)\n",
    "\n",
    "\n",
    "# Ajouter du padding aux prénoms\n",
    "def pad_sequence(sequence, max_length):\n",
    "    padded_sequence = sequence + [''] * (max_length - len(sequence))\n",
    "    return padded_sequence\n",
    "\n",
    "\n",
    "# Créer le tenseur X\n",
    "def names_to_tensor(names, max_length):\n",
    "    tensor = torch.zeros(len(names), max_length, n_letters)\n",
    "    for i, name in enumerate(names):\n",
    "        padded_name = pad_sequence(list(name), max_length)\n",
    "        for j, letter in enumerate(padded_name):\n",
    "            if letter:\n",
    "                tensor[i][j][letterToIndex(letter)] = 1\n",
    "    return tensor\n",
    "\n",
    "\n",
    "# Charger les données\n",
    "names_tensor = names_to_tensor([name for names in category_lines.values() for name in names], name_max_length)\n",
    "categories_tensor = torch.tensor(\n",
    "    [all_categories.index(category) for category, names in category_lines.items() for _ in names],\n",
    "    dtype=torch.int64)\n",
    "\n",
    "# Créer le dataset\n",
    "dataset = TensorDataset(names_tensor, categories_tensor)\n",
    "\n",
    "# Utiliser DataLoader pour les batchs\n",
    "batch_size = 64\n",
    "dataloader = DataLoader(dataset, batch_size=batch_size, shuffle=True)\n",
    "\n",
    "\n",
    "# Modifier la fonction randomTrainingExample pour utiliser le DataLoader\n",
    "def randomTrainingExample(dataloader):\n",
    "    for batch in dataloader:\n",
    "        names_tensor, categories_tensor = batch\n",
    "        return names_tensor, categories_tensor\n",
    "\n",
    "\n",
    "# Charger les données\n",
    "names_tensor = names_to_tensor([name for names in category_lines.values() for name in names], name_max_length)\n",
    "\n",
    "print(names_tensor.shape, categories_tensor.shape)"
   ],
   "metadata": {
    "collapsed": false,
    "pycharm": {
     "name": "#%%\n"
    }
   }
  },
  {
   "cell_type": "markdown",
   "id": "a0e91689",
   "metadata": {
    "pycharm": {
     "name": "#%% md\n"
    }
   },
   "source": [
    "### Modèle\n",
    "\n",
    "Construisez un modèle qui:\n",
    "- A l'init, déclare un hidden state initial $H_0$, un RNN (avec torch.nn.RNN)\n",
    "- Au forward, passe (input, $H_0$) dans le RNN, puis applique un softmax à l'output"
   ]
  },
  {
   "cell_type": "code",
   "execution_count": 22,
   "id": "b5b60d00",
   "metadata": {
    "pycharm": {
     "name": "#%%\n"
    }
   },
   "outputs": [],
   "source": [
    "import torch.nn as nn\n",
    "\n",
    "\n",
    "class RNNModel(nn.Module):\n",
    "    def __init__(self, input_size, hidden_state_dim, output_size):\n",
    "        super(RNNModel, self).__init__()\n",
    "        self.hidden_size = hidden_state_dim\n",
    "        self.rnn = nn.RNN(input_size, hidden_state_dim)\n",
    "        self.hidden_to_output = nn.Linear(hidden_state_dim, output_size)\n",
    "        self.softmax = nn.LogSoftmax(dim=1)\n",
    "\n",
    "    def forward(self, input, hidden):\n",
    "        output, hidden = self.rnn(input, hidden)\n",
    "        output = self.hidden_to_output(output[-1, :, :])  # Prendre seulement la dernière sortie\n",
    "        output = self.softmax(output)\n",
    "        return output, hidden\n",
    "\n",
    "    def init_hidden(self, batch_size):\n",
    "        return torch.zeros(1, batch_size, self.hidden_size)\n"
   ]
  },
  {
   "cell_type": "markdown",
   "id": "2a81d080",
   "metadata": {
    "pycharm": {
     "name": "#%% md\n"
    }
   },
   "source": [
    "Entraînez le modèle avec des batchs de X, y"
   ]
  },
  {
   "cell_type": "code",
   "execution_count": 25,
   "id": "2c675881",
   "metadata": {
    "pycharm": {
     "name": "#%%\n"
    }
   },
   "outputs": [
    {
     "name": "stdout",
     "output_type": "stream",
     "text": [
      "tensor([[-2.9600, -2.8991, -2.9163,  ..., -2.9383, -2.8060, -2.8023],\n",
      "        [-2.9600, -2.8990, -2.9163,  ..., -2.9383, -2.8061, -2.8023],\n",
      "        [-2.9603, -2.8985, -2.9162,  ..., -2.9385, -2.8068, -2.8024],\n",
      "        ...,\n",
      "        [-2.9600, -2.8991, -2.9165,  ..., -2.9383, -2.8061, -2.8024],\n",
      "        [-2.9599, -2.8991, -2.9163,  ..., -2.9383, -2.8059, -2.8023],\n",
      "        [-2.9600, -2.8991, -2.9164,  ..., -2.9382, -2.8060, -2.8022]],\n",
      "       grad_fn=<LogSoftmaxBackward0>)\n"
     ]
    }
   ],
   "source": [
    "# Créer une instance du modèle\n",
    "rnn_model = RNNModel(n_letters, 128, n_categories)\n",
    "\n",
    "# Tester le modèle avec une entrée factice\n",
    "names_tensor, categories_tensor = randomTrainingExample(dataloader)\n",
    "batch_size = names_tensor.size(0)\n",
    "hidden = rnn_model.init_hidden(batch_size)\n",
    "\n",
    "# Passer à travers le modèle\n",
    "output, _ = rnn_model(names_tensor.permute(1, 0, 2), hidden)\n",
    "\n",
    "# Afficher la sortie en log proba\n",
    "print(output)\n"
   ]
  },
  {
   "cell_type": "markdown",
   "id": "eda0372a",
   "metadata": {
    "pycharm": {
     "name": "#%% md\n"
    }
   },
   "source": [
    "### Amélioration du modèle\n",
    "\n",
    "Tenter d'améliorer le modèle:\n",
    "- En utilisant plusieurs layers dans le RNN\n",
    "- En utilisant LSTM à la place de RNN (une autre forme de recurrent neural network, plus avancé)\n",
    "\n",
    "(regardez la doc)"
   ]
  },
  {
   "cell_type": "markdown",
   "source": [
    "#### Utilisation de plusieurs layers dans le RNN"
   ],
   "metadata": {
    "collapsed": false,
    "pycharm": {
     "name": "#%% md\n"
    }
   }
  },
  {
   "cell_type": "code",
   "execution_count": 26,
   "id": "f688924b",
   "metadata": {
    "pycharm": {
     "name": "#%%\n"
    }
   },
   "outputs": [],
   "source": [
    "import torch.nn as nn\n",
    "\n",
    "\n",
    "class MultiLayerRNNModel(nn.Module):\n",
    "    def __init__(self, input_size, hidden_state_dim, output_size, num_layers):\n",
    "        super(MultiLayerRNNModel, self).__init__()\n",
    "        self.hidden_size = hidden_state_dim\n",
    "        self.num_layers = num_layers\n",
    "        self.rnn = nn.RNN(input_size, hidden_state_dim, num_layers=num_layers)\n",
    "        self.hidden_to_output = nn.Linear(hidden_state_dim, output_size)\n",
    "        self.softmax = nn.LogSoftmax(dim=1)\n",
    "\n",
    "    def forward(self, input, hidden):\n",
    "        output, hidden = self.rnn(input, hidden)\n",
    "        output = self.hidden_to_output(output[-1, :, :])  # Prendre seulement la dernière sortie\n",
    "        output = self.softmax(output)\n",
    "        return output, hidden\n",
    "\n",
    "    def init_hidden(self, batch_size):\n",
    "        return torch.zeros(self.num_layers, batch_size, self.hidden_size)\n",
    "\n",
    "\n",
    "# Créer une instance du modèle avec plusieurs layers\n",
    "multi_layer_rnn_model = MultiLayerRNNModel(n_letters, 128, n_categories, num_layers=2)\n"
   ]
  },
  {
   "cell_type": "markdown",
   "source": [
    "#### Utilisation de LSTM"
   ],
   "metadata": {
    "collapsed": false,
    "pycharm": {
     "name": "#%% md\n"
    }
   }
  },
  {
   "cell_type": "code",
   "execution_count": 51,
   "outputs": [],
   "source": [
    "import torch.nn as nn\n",
    "\n",
    "\n",
    "class LSTMModel(nn.Module):\n",
    "    def __init__(self, input_size, hidden_state_dim, output_size):\n",
    "        super(LSTMModel, self).__init__()\n",
    "        self.hidden_size = hidden_state_dim\n",
    "        self.lstm = nn.LSTM(input_size, hidden_state_dim)\n",
    "        self.hidden_to_output = nn.Linear(hidden_state_dim, output_size)\n",
    "        self.softmax = nn.LogSoftmax(dim=1)\n",
    "\n",
    "    def forward(self, input, hidden):\n",
    "        output, hidden = self.lstm(input, hidden)\n",
    "        output = self.hidden_to_output(output[-1, :, :])  # Prendre seulement la dernière sortie\n",
    "        output = self.softmax(output)\n",
    "        return output, hidden\n",
    "\n",
    "    def init_hidden(self, batch_size):\n",
    "        return (torch.zeros(1, batch_size, self.hidden_size),\n",
    "                torch.zeros(1, batch_size, self.hidden_size))\n",
    "\n",
    "\n",
    "# Créer une instance du modèle avec LSTM\n",
    "lstm_model = LSTMModel(n_letters, 128, n_categories)"
   ],
   "metadata": {
    "collapsed": false,
    "pycharm": {
     "name": "#%%\n"
    }
   }
  },
  {
   "cell_type": "markdown",
   "source": [
    "#### Comparaison des modèles"
   ],
   "metadata": {
    "collapsed": false,
    "pycharm": {
     "name": "#%% md\n"
    }
   }
  },
  {
   "cell_type": "code",
   "execution_count": 52,
   "outputs": [
    {
     "name": "stdout",
     "output_type": "stream",
     "text": [
      "Epoch 0/100 - Training...\n",
      "Epoch 0/100 - Training complete.\n",
      "Epoch 0/100 - RNN Model - Accuracy: 0.026899128268991282\n",
      "Epoch 1/100 - Training...\n",
      "Epoch 1/100 - Training complete.\n",
      "Epoch 2/100 - Training...\n",
      "Epoch 2/100 - Training complete.\n",
      "Epoch 3/100 - Training...\n",
      "Epoch 3/100 - Training complete.\n",
      "Epoch 4/100 - Training...\n",
      "Epoch 4/100 - Training complete.\n",
      "Epoch 5/100 - Training...\n",
      "Epoch 5/100 - Training complete.\n",
      "Epoch 6/100 - Training...\n",
      "Epoch 6/100 - Training complete.\n",
      "Epoch 7/100 - Training...\n",
      "Epoch 7/100 - Training complete.\n",
      "Epoch 8/100 - Training...\n",
      "Epoch 8/100 - Training complete.\n",
      "Epoch 9/100 - Training...\n",
      "Epoch 9/100 - Training complete.\n",
      "Epoch 10/100 - Training...\n",
      "Epoch 10/100 - Training complete.\n",
      "Epoch 11/100 - Training...\n",
      "Epoch 11/100 - Training complete.\n",
      "Epoch 12/100 - Training...\n",
      "Epoch 12/100 - Training complete.\n",
      "Epoch 13/100 - Training...\n",
      "Epoch 13/100 - Training complete.\n",
      "Epoch 14/100 - Training...\n",
      "Epoch 14/100 - Training complete.\n",
      "Epoch 15/100 - Training...\n",
      "Epoch 15/100 - Training complete.\n",
      "Epoch 16/100 - Training...\n",
      "Epoch 16/100 - Training complete.\n",
      "Epoch 17/100 - Training...\n",
      "Epoch 17/100 - Training complete.\n",
      "Epoch 18/100 - Training...\n",
      "Epoch 18/100 - Training complete.\n",
      "Epoch 19/100 - Training...\n",
      "Epoch 19/100 - Training complete.\n",
      "Epoch 20/100 - Training...\n",
      "Epoch 20/100 - Training complete.\n",
      "Epoch 21/100 - Training...\n",
      "Epoch 21/100 - Training complete.\n",
      "Epoch 22/100 - Training...\n",
      "Epoch 22/100 - Training complete.\n",
      "Epoch 23/100 - Training...\n",
      "Epoch 23/100 - Training complete.\n",
      "Epoch 24/100 - Training...\n",
      "Epoch 24/100 - Training complete.\n",
      "Epoch 25/100 - Training...\n",
      "Epoch 25/100 - Training complete.\n",
      "Epoch 26/100 - Training...\n",
      "Epoch 26/100 - Training complete.\n",
      "Epoch 27/100 - Training...\n",
      "Epoch 27/100 - Training complete.\n",
      "Epoch 28/100 - Training...\n",
      "Epoch 28/100 - Training complete.\n",
      "Epoch 29/100 - Training...\n",
      "Epoch 29/100 - Training complete.\n",
      "Epoch 30/100 - Training...\n",
      "Epoch 30/100 - Training complete.\n",
      "Epoch 31/100 - Training...\n",
      "Epoch 31/100 - Training complete.\n",
      "Epoch 32/100 - Training...\n",
      "Epoch 32/100 - Training complete.\n",
      "Epoch 33/100 - Training...\n",
      "Epoch 33/100 - Training complete.\n",
      "Epoch 34/100 - Training...\n",
      "Epoch 34/100 - Training complete.\n",
      "Epoch 35/100 - Training...\n",
      "Epoch 35/100 - Training complete.\n",
      "Epoch 36/100 - Training...\n",
      "Epoch 36/100 - Training complete.\n",
      "Epoch 37/100 - Training...\n",
      "Epoch 37/100 - Training complete.\n",
      "Epoch 38/100 - Training...\n",
      "Epoch 38/100 - Training complete.\n",
      "Epoch 39/100 - Training...\n",
      "Epoch 39/100 - Training complete.\n",
      "Epoch 40/100 - Training...\n",
      "Epoch 40/100 - Training complete.\n",
      "Epoch 41/100 - Training...\n",
      "Epoch 41/100 - Training complete.\n",
      "Epoch 42/100 - Training...\n",
      "Epoch 42/100 - Training complete.\n",
      "Epoch 43/100 - Training...\n",
      "Epoch 43/100 - Training complete.\n",
      "Epoch 44/100 - Training...\n",
      "Epoch 44/100 - Training complete.\n",
      "Epoch 45/100 - Training...\n",
      "Epoch 45/100 - Training complete.\n",
      "Epoch 46/100 - Training...\n",
      "Epoch 46/100 - Training complete.\n",
      "Epoch 47/100 - Training...\n",
      "Epoch 47/100 - Training complete.\n",
      "Epoch 48/100 - Training...\n",
      "Epoch 48/100 - Training complete.\n",
      "Epoch 49/100 - Training...\n",
      "Epoch 49/100 - Training complete.\n",
      "Epoch 50/100 - Training...\n",
      "Epoch 50/100 - Training complete.\n",
      "Epoch 51/100 - Training...\n",
      "Epoch 51/100 - Training complete.\n",
      "Epoch 52/100 - Training...\n",
      "Epoch 52/100 - Training complete.\n",
      "Epoch 53/100 - Training...\n",
      "Epoch 53/100 - Training complete.\n",
      "Epoch 54/100 - Training...\n",
      "Epoch 54/100 - Training complete.\n",
      "Epoch 55/100 - Training...\n",
      "Epoch 55/100 - Training complete.\n",
      "Epoch 56/100 - Training...\n",
      "Epoch 56/100 - Training complete.\n",
      "Epoch 57/100 - Training...\n",
      "Epoch 57/100 - Training complete.\n",
      "Epoch 58/100 - Training...\n",
      "Epoch 58/100 - Training complete.\n",
      "Epoch 59/100 - Training...\n",
      "Epoch 59/100 - Training complete.\n",
      "Epoch 60/100 - Training...\n",
      "Epoch 60/100 - Training complete.\n",
      "Epoch 61/100 - Training...\n",
      "Epoch 61/100 - Training complete.\n",
      "Epoch 62/100 - Training...\n",
      "Epoch 62/100 - Training complete.\n",
      "Epoch 63/100 - Training...\n",
      "Epoch 63/100 - Training complete.\n",
      "Epoch 64/100 - Training...\n",
      "Epoch 64/100 - Training complete.\n",
      "Epoch 65/100 - Training...\n",
      "Epoch 65/100 - Training complete.\n",
      "Epoch 66/100 - Training...\n",
      "Epoch 66/100 - Training complete.\n",
      "Epoch 67/100 - Training...\n",
      "Epoch 67/100 - Training complete.\n",
      "Epoch 68/100 - Training...\n",
      "Epoch 68/100 - Training complete.\n",
      "Epoch 69/100 - Training...\n",
      "Epoch 69/100 - Training complete.\n",
      "Epoch 70/100 - Training...\n",
      "Epoch 70/100 - Training complete.\n",
      "Epoch 71/100 - Training...\n",
      "Epoch 71/100 - Training complete.\n",
      "Epoch 72/100 - Training...\n",
      "Epoch 72/100 - Training complete.\n",
      "Epoch 73/100 - Training...\n",
      "Epoch 73/100 - Training complete.\n",
      "Epoch 74/100 - Training...\n",
      "Epoch 74/100 - Training complete.\n",
      "Epoch 75/100 - Training...\n",
      "Epoch 75/100 - Training complete.\n",
      "Epoch 76/100 - Training...\n",
      "Epoch 76/100 - Training complete.\n",
      "Epoch 77/100 - Training...\n",
      "Epoch 77/100 - Training complete.\n",
      "Epoch 78/100 - Training...\n",
      "Epoch 78/100 - Training complete.\n",
      "Epoch 79/100 - Training...\n",
      "Epoch 79/100 - Training complete.\n",
      "Epoch 80/100 - Training...\n",
      "Epoch 80/100 - Training complete.\n",
      "Epoch 81/100 - Training...\n",
      "Epoch 81/100 - Training complete.\n",
      "Epoch 82/100 - Training...\n",
      "Epoch 82/100 - Training complete.\n",
      "Epoch 83/100 - Training...\n",
      "Epoch 83/100 - Training complete.\n",
      "Epoch 84/100 - Training...\n",
      "Epoch 84/100 - Training complete.\n",
      "Epoch 85/100 - Training...\n",
      "Epoch 85/100 - Training complete.\n",
      "Epoch 86/100 - Training...\n",
      "Epoch 86/100 - Training complete.\n",
      "Epoch 87/100 - Training...\n",
      "Epoch 87/100 - Training complete.\n",
      "Epoch 88/100 - Training...\n",
      "Epoch 88/100 - Training complete.\n",
      "Epoch 89/100 - Training...\n",
      "Epoch 89/100 - Training complete.\n",
      "Epoch 90/100 - Training...\n",
      "Epoch 90/100 - Training complete.\n",
      "Epoch 91/100 - Training...\n",
      "Epoch 91/100 - Training complete.\n",
      "Epoch 92/100 - Training...\n",
      "Epoch 92/100 - Training complete.\n",
      "Epoch 93/100 - Training...\n",
      "Epoch 93/100 - Training complete.\n",
      "Epoch 94/100 - Training...\n",
      "Epoch 94/100 - Training complete.\n",
      "Epoch 95/100 - Training...\n",
      "Epoch 95/100 - Training complete.\n",
      "Epoch 96/100 - Training...\n",
      "Epoch 96/100 - Training complete.\n",
      "Epoch 97/100 - Training...\n",
      "Epoch 97/100 - Training complete.\n",
      "Epoch 98/100 - Training...\n",
      "Epoch 98/100 - Training complete.\n",
      "Epoch 99/100 - Training...\n",
      "Epoch 99/100 - Training complete.\n",
      "Epoch 0/100 - Training...\n",
      "Epoch 0/100 - Training complete.\n",
      "Epoch 0/100 - LSTM Model - Accuracy: 0.014445828144458281\n",
      "Epoch 1/100 - Training...\n",
      "Epoch 1/100 - Training complete.\n",
      "Epoch 2/100 - Training...\n",
      "Epoch 2/100 - Training complete.\n",
      "Epoch 3/100 - Training...\n",
      "Epoch 3/100 - Training complete.\n",
      "Epoch 4/100 - Training...\n",
      "Epoch 4/100 - Training complete.\n",
      "Epoch 5/100 - Training...\n",
      "Epoch 5/100 - Training complete.\n",
      "Epoch 6/100 - Training...\n",
      "Epoch 6/100 - Training complete.\n",
      "Epoch 7/100 - Training...\n",
      "Epoch 7/100 - Training complete.\n",
      "Epoch 8/100 - Training...\n",
      "Epoch 8/100 - Training complete.\n",
      "Epoch 9/100 - Training...\n",
      "Epoch 9/100 - Training complete.\n",
      "Epoch 10/100 - Training...\n",
      "Epoch 10/100 - Training complete.\n",
      "Epoch 11/100 - Training...\n",
      "Epoch 11/100 - Training complete.\n",
      "Epoch 12/100 - Training...\n",
      "Epoch 12/100 - Training complete.\n",
      "Epoch 13/100 - Training...\n",
      "Epoch 13/100 - Training complete.\n",
      "Epoch 14/100 - Training...\n",
      "Epoch 14/100 - Training complete.\n",
      "Epoch 15/100 - Training...\n",
      "Epoch 15/100 - Training complete.\n",
      "Epoch 16/100 - Training...\n",
      "Epoch 16/100 - Training complete.\n",
      "Epoch 17/100 - Training...\n",
      "Epoch 17/100 - Training complete.\n",
      "Epoch 18/100 - Training...\n",
      "Epoch 18/100 - Training complete.\n",
      "Epoch 19/100 - Training...\n",
      "Epoch 19/100 - Training complete.\n",
      "Epoch 20/100 - Training...\n",
      "Epoch 20/100 - Training complete.\n",
      "Epoch 21/100 - Training...\n",
      "Epoch 21/100 - Training complete.\n",
      "Epoch 22/100 - Training...\n",
      "Epoch 22/100 - Training complete.\n",
      "Epoch 23/100 - Training...\n",
      "Epoch 23/100 - Training complete.\n",
      "Epoch 24/100 - Training...\n",
      "Epoch 24/100 - Training complete.\n",
      "Epoch 25/100 - Training...\n",
      "Epoch 25/100 - Training complete.\n",
      "Epoch 26/100 - Training...\n",
      "Epoch 26/100 - Training complete.\n",
      "Epoch 27/100 - Training...\n",
      "Epoch 27/100 - Training complete.\n",
      "Epoch 28/100 - Training...\n",
      "Epoch 28/100 - Training complete.\n",
      "Epoch 29/100 - Training...\n",
      "Epoch 29/100 - Training complete.\n",
      "Epoch 30/100 - Training...\n",
      "Epoch 30/100 - Training complete.\n",
      "Epoch 31/100 - Training...\n",
      "Epoch 31/100 - Training complete.\n",
      "Epoch 32/100 - Training...\n",
      "Epoch 32/100 - Training complete.\n",
      "Epoch 33/100 - Training...\n",
      "Epoch 33/100 - Training complete.\n",
      "Epoch 34/100 - Training...\n",
      "Epoch 34/100 - Training complete.\n",
      "Epoch 35/100 - Training...\n",
      "Epoch 35/100 - Training complete.\n",
      "Epoch 36/100 - Training...\n",
      "Epoch 36/100 - Training complete.\n",
      "Epoch 37/100 - Training...\n",
      "Epoch 37/100 - Training complete.\n",
      "Epoch 38/100 - Training...\n",
      "Epoch 38/100 - Training complete.\n",
      "Epoch 39/100 - Training...\n",
      "Epoch 39/100 - Training complete.\n",
      "Epoch 40/100 - Training...\n",
      "Epoch 40/100 - Training complete.\n",
      "Epoch 41/100 - Training...\n",
      "Epoch 41/100 - Training complete.\n",
      "Epoch 42/100 - Training...\n",
      "Epoch 42/100 - Training complete.\n",
      "Epoch 43/100 - Training...\n",
      "Epoch 43/100 - Training complete.\n",
      "Epoch 44/100 - Training...\n",
      "Epoch 44/100 - Training complete.\n",
      "Epoch 45/100 - Training...\n",
      "Epoch 45/100 - Training complete.\n",
      "Epoch 46/100 - Training...\n",
      "Epoch 46/100 - Training complete.\n",
      "Epoch 47/100 - Training...\n",
      "Epoch 47/100 - Training complete.\n",
      "Epoch 48/100 - Training...\n",
      "Epoch 48/100 - Training complete.\n",
      "Epoch 49/100 - Training...\n",
      "Epoch 49/100 - Training complete.\n",
      "Epoch 50/100 - Training...\n",
      "Epoch 50/100 - Training complete.\n",
      "Epoch 51/100 - Training...\n",
      "Epoch 51/100 - Training complete.\n",
      "Epoch 52/100 - Training...\n",
      "Epoch 52/100 - Training complete.\n",
      "Epoch 53/100 - Training...\n",
      "Epoch 53/100 - Training complete.\n",
      "Epoch 54/100 - Training...\n",
      "Epoch 54/100 - Training complete.\n",
      "Epoch 55/100 - Training...\n",
      "Epoch 55/100 - Training complete.\n",
      "Epoch 56/100 - Training...\n",
      "Epoch 56/100 - Training complete.\n",
      "Epoch 57/100 - Training...\n",
      "Epoch 57/100 - Training complete.\n",
      "Epoch 58/100 - Training...\n",
      "Epoch 58/100 - Training complete.\n",
      "Epoch 59/100 - Training...\n",
      "Epoch 59/100 - Training complete.\n",
      "Epoch 60/100 - Training...\n",
      "Epoch 60/100 - Training complete.\n",
      "Epoch 61/100 - Training...\n",
      "Epoch 61/100 - Training complete.\n",
      "Epoch 62/100 - Training...\n",
      "Epoch 62/100 - Training complete.\n",
      "Epoch 63/100 - Training...\n",
      "Epoch 63/100 - Training complete.\n",
      "Epoch 64/100 - Training...\n",
      "Epoch 64/100 - Training complete.\n",
      "Epoch 65/100 - Training...\n",
      "Epoch 65/100 - Training complete.\n",
      "Epoch 66/100 - Training...\n",
      "Epoch 66/100 - Training complete.\n",
      "Epoch 67/100 - Training...\n",
      "Epoch 67/100 - Training complete.\n",
      "Epoch 68/100 - Training...\n",
      "Epoch 68/100 - Training complete.\n",
      "Epoch 69/100 - Training...\n",
      "Epoch 69/100 - Training complete.\n",
      "Epoch 70/100 - Training...\n",
      "Epoch 70/100 - Training complete.\n",
      "Epoch 71/100 - Training...\n",
      "Epoch 71/100 - Training complete.\n",
      "Epoch 72/100 - Training...\n",
      "Epoch 72/100 - Training complete.\n",
      "Epoch 73/100 - Training...\n",
      "Epoch 73/100 - Training complete.\n",
      "Epoch 74/100 - Training...\n",
      "Epoch 74/100 - Training complete.\n",
      "Epoch 75/100 - Training...\n",
      "Epoch 75/100 - Training complete.\n",
      "Epoch 76/100 - Training...\n",
      "Epoch 76/100 - Training complete.\n",
      "Epoch 77/100 - Training...\n",
      "Epoch 77/100 - Training complete.\n",
      "Epoch 78/100 - Training...\n",
      "Epoch 78/100 - Training complete.\n",
      "Epoch 79/100 - Training...\n",
      "Epoch 79/100 - Training complete.\n",
      "Epoch 80/100 - Training...\n",
      "Epoch 80/100 - Training complete.\n",
      "Epoch 81/100 - Training...\n",
      "Epoch 81/100 - Training complete.\n",
      "Epoch 82/100 - Training...\n",
      "Epoch 82/100 - Training complete.\n",
      "Epoch 83/100 - Training...\n",
      "Epoch 83/100 - Training complete.\n",
      "Epoch 84/100 - Training...\n",
      "Epoch 84/100 - Training complete.\n",
      "Epoch 85/100 - Training...\n",
      "Epoch 85/100 - Training complete.\n",
      "Epoch 86/100 - Training...\n",
      "Epoch 86/100 - Training complete.\n",
      "Epoch 87/100 - Training...\n",
      "Epoch 87/100 - Training complete.\n",
      "Epoch 88/100 - Training...\n",
      "Epoch 88/100 - Training complete.\n",
      "Epoch 89/100 - Training...\n",
      "Epoch 89/100 - Training complete.\n",
      "Epoch 90/100 - Training...\n",
      "Epoch 90/100 - Training complete.\n",
      "Epoch 91/100 - Training...\n",
      "Epoch 91/100 - Training complete.\n",
      "Epoch 92/100 - Training...\n",
      "Epoch 92/100 - Training complete.\n",
      "Epoch 93/100 - Training...\n",
      "Epoch 93/100 - Training complete.\n",
      "Epoch 94/100 - Training...\n",
      "Epoch 94/100 - Training complete.\n",
      "Epoch 95/100 - Training...\n",
      "Epoch 95/100 - Training complete.\n",
      "Epoch 96/100 - Training...\n",
      "Epoch 96/100 - Training complete.\n",
      "Epoch 97/100 - Training...\n",
      "Epoch 97/100 - Training complete.\n",
      "Epoch 98/100 - Training...\n",
      "Epoch 98/100 - Training complete.\n",
      "Epoch 99/100 - Training...\n",
      "Epoch 99/100 - Training complete.\n"
     ]
    }
   ],
   "source": [
    "import random\n",
    "from torch.utils.data import Dataset\n",
    "from sklearn.metrics import accuracy_score, classification_report\n",
    "\n",
    "\n",
    "def evaluate_model(model, dataloader):\n",
    "    model.eval()\n",
    "    all_predictions = []\n",
    "    all_targets = []\n",
    "\n",
    "    with torch.no_grad():\n",
    "        for names_tensor, categories_tensor in dataloader:\n",
    "            batch_size = names_tensor.size(0)\n",
    "            hidden = model.init_hidden(batch_size)\n",
    "\n",
    "            # Passer à travers le modèle\n",
    "            output, _ = model(names_tensor.permute(1, 0, 2), hidden)\n",
    "            _, predictions = torch.max(output, 1)\n",
    "\n",
    "            all_predictions.extend(predictions.tolist())\n",
    "            all_targets.extend(categories_tensor.tolist())\n",
    "\n",
    "    accuracy = accuracy_score(all_targets, all_predictions)\n",
    "    report = classification_report(all_targets, all_predictions, zero_division=1)\n",
    "\n",
    "    return accuracy, report\n",
    "\n",
    "\n",
    "# Définir une classe Dataset personnalisée\n",
    "class NameDataset(Dataset):\n",
    "    def __init__(self, category_lines, all_categories, letter_to_index):\n",
    "        self.category_lines = category_lines\n",
    "        self.all_categories = all_categories\n",
    "        self.letter_to_index = letter_to_index\n",
    "        self.max_length = max(len(name) for names in category_lines.values() for name in names)\n",
    "\n",
    "    def __len__(self):\n",
    "        return sum(len(names) for names in self.category_lines.values())\n",
    "\n",
    "    def __getitem__(self, index):\n",
    "        category = random.choice(self.all_categories)\n",
    "        line = random.choice(self.category_lines[category])\n",
    "        category_tensor = torch.tensor([self.all_categories.index(category)], dtype=torch.int64)\n",
    "        line_tensor = self.line_to_tensor(line)\n",
    "        return line_tensor, category_tensor\n",
    "\n",
    "    def line_to_tensor(self, line):\n",
    "        tensor = torch.zeros(self.max_length, len(self.letter_to_index))\n",
    "        for i, letter in enumerate(line):\n",
    "            if letter:\n",
    "                tensor[i][self.letter_to_index[letter]] = 1\n",
    "        return tensor\n",
    "\n",
    "\n",
    "# Créer des ensembles d'entraînement et de test\n",
    "train_size = int(0.8 * len(dataset))\n",
    "test_size = len(dataset) - train_size\n",
    "train_dataset, test_dataset = torch.utils.data.random_split(dataset, [train_size, test_size])\n",
    "\n",
    "train_dataloader = DataLoader(train_dataset, batch_size=batch_size, shuffle=True)\n",
    "test_dataloader = DataLoader(test_dataset, batch_size=batch_size, shuffle=False)\n",
    "\n",
    "n_epochs = 100\n",
    "\n",
    "# Entraîner le modèle avec plusieurs layers dans le RNN\n",
    "multi_layer_rnn_model.train()\n",
    "for epoch in range(n_epochs):\n",
    "    print(f\"Epoch {epoch}/{n_epochs} - Training...\")\n",
    "    for names_tensor, categories_tensor in train_dataloader:\n",
    "        # Réinitialiser les gradients\n",
    "        optimizer.zero_grad()\n",
    "\n",
    "        # Initialiser l'état caché\n",
    "        hidden = multi_layer_rnn_model.init_hidden(names_tensor.size(0))\n",
    "\n",
    "        # Passer à travers le modèle\n",
    "        output, _ = multi_layer_rnn_model(names_tensor.permute(1, 0, 2), hidden)\n",
    "\n",
    "        # Calculer la perte\n",
    "        loss = criterion(output, categories_tensor.squeeze())\n",
    "\n",
    "        # Retropropagation et mise à jour des poids\n",
    "        loss.backward()\n",
    "        optimizer.step()\n",
    "\n",
    "    print(f\"Epoch {epoch}/{n_epochs} - Training complete.\")\n",
    "    # Évaluation à chaque epoch si nécessaire\n",
    "    if epoch % 100 == 0:\n",
    "        accuracy_rnn, _ = evaluate_model(multi_layer_rnn_model, test_dataloader)\n",
    "        print(f\"Epoch {epoch}/{n_epochs} - RNN Model - Accuracy: {accuracy_rnn}\")\n",
    "\n",
    "# Entraîner le modèle avec LSTM\n",
    "lstm_model.train()\n",
    "for epoch in range(n_epochs):\n",
    "    print(f\"Epoch {epoch}/{n_epochs} - Training...\")\n",
    "    for names_tensor, categories_tensor in train_dataloader:\n",
    "        # Réinitialiser les gradients\n",
    "        optimizer.zero_grad()\n",
    "\n",
    "        # Initialiser l'état caché\n",
    "        hidden = lstm_model.init_hidden(names_tensor.size(0))\n",
    "\n",
    "        # Passer à travers le modèle\n",
    "        output, _ = lstm_model(names_tensor.permute(1, 0, 2), hidden)\n",
    "\n",
    "        # Calculer la perte\n",
    "        loss = criterion(output, categories_tensor.squeeze())\n",
    "\n",
    "        # Retropropagation et mise à jour des poids\n",
    "        loss.backward()\n",
    "        optimizer.step()\n",
    "\n",
    "    print(f\"Epoch {epoch}/{n_epochs} - Training complete.\")\n",
    "\n",
    "    # Évaluation à chaque epoch si nécessaire\n",
    "    if epoch % 100 == 0:\n",
    "        accuracy_lstm, _ = evaluate_model(lstm_model, test_dataloader)\n",
    "        print(f\"Epoch {epoch}/{n_epochs} - LSTM Model - Accuracy: {accuracy_lstm}\")\n",
    "\n"
   ],
   "metadata": {
    "collapsed": false,
    "pycharm": {
     "name": "#%%\n"
    }
   }
  },
  {
   "cell_type": "markdown",
   "id": "da84e069",
   "metadata": {
    "pycharm": {
     "name": "#%% md\n"
    }
   },
   "source": [
    "### Embedding\n",
    "\n",
    "On veut utiliser en embedding pour les lettres.\n",
    "Le forward appliquerait l'embedding aux lettres, puis les layers RNN prendrait l'embedding comme input\n",
    "\n",
    "Nous allons utiliser torch.nn.Embedding\n",
    "**Attention**: Embedding ne prend pas les lettres one-hot encoded, mais leurs indices.\n",
    "Par exemple, \"abca\", il lui faudrait le vecteur [0, 1, 2, 0]<br>\n",
    "et non [[1, 0, 0], [0, 1, 0], [0, 0, 1], [1, 0, 0]]"
   ]
  },
  {
   "cell_type": "markdown",
   "id": "c0418088",
   "metadata": {
    "pycharm": {
     "name": "#%% md\n"
    }
   },
   "source": [
    "**Expérimenter torch.nn.Embedding**<br>\n",
    "Instantier \"emb\" une torch.nn.Embedding avec les bons paramètres (regardez la doc)\n",
    "En construisant le bon tenseur X_emb,\n",
    "\n",
    "```emb(X_emb)```\n",
    "\n",
    "doit retourner un tenseur (qui n'a pas de sens car il n'a rien appris pour l'instant, mais les opérations se passent bien)"
   ]
  },
  {
   "cell_type": "code",
   "execution_count": 56,
   "id": "617eb47b",
   "metadata": {
    "pycharm": {
     "name": "#%%\n"
    }
   },
   "outputs": [
    {
     "name": "stdout",
     "output_type": "stream",
     "text": [
      "['a', 'b', 'c', 'd', 'e', 'f', 'g', 'h', 'i', 'j', 'k', 'l', 'm', 'n', 'o', 'p', 'q', 'r', 's', 't', 'u', 'v', 'w', 'x', 'y', 'z', 'A', 'B', 'C', 'D', 'E', 'F', 'G', 'H', 'I', 'J', 'K', 'L', 'M', 'N', 'O', 'P', 'Q', 'R', 'S', 'T', 'U', 'V', 'W', 'X', 'Y', 'Z', ' ', '.', ',', ';', \"'\"] {'a': 0, 'b': 1, 'c': 2, 'd': 3, 'e': 4, 'f': 5, 'g': 6, 'h': 7, 'i': 8, 'j': 9, 'k': 10, 'l': 11, 'm': 12, 'n': 13, 'o': 14, 'p': 15, 'q': 16, 'r': 17, 's': 18, 't': 19, 'u': 20, 'v': 21, 'w': 22, 'x': 23, 'y': 24, 'z': 25, 'A': 26, 'B': 27, 'C': 28, 'D': 29, 'E': 30, 'F': 31, 'G': 32, 'H': 33, 'I': 34, 'J': 35, 'K': 36, 'L': 37, 'M': 38, 'N': 39, 'O': 40, 'P': 41, 'Q': 42, 'R': 43, 'S': 44, 'T': 45, 'U': 46, 'V': 47, 'W': 48, 'X': 49, 'Y': 50, 'Z': 51, ' ': 52, '.': 53, ',': 54, ';': 55, \"'\": 56}\n"
     ]
    },
    {
     "ename": "RuntimeError",
     "evalue": "For unbatched 2-D input, hx should also be 2-D but got 3-D tensor",
     "output_type": "error",
     "traceback": [
      "\u001B[1;31m---------------------------------------------------------------------------\u001B[0m",
      "\u001B[1;31mRuntimeError\u001B[0m                              Traceback (most recent call last)",
      "Input \u001B[1;32mIn [56]\u001B[0m, in \u001B[0;36m<cell line: 77>\u001B[1;34m()\u001B[0m\n\u001B[0;32m     91\u001B[0m     flattened_indices[\n\u001B[0;32m     92\u001B[0m     i \u001B[38;5;241m*\u001B[39m names_indices_tensor\u001B[38;5;241m.\u001B[39msize(\u001B[38;5;241m1\u001B[39m):(i \u001B[38;5;241m+\u001B[39m \u001B[38;5;241m1\u001B[39m) \u001B[38;5;241m*\u001B[39m names_indices_tensor\u001B[38;5;241m.\u001B[39msize(\u001B[38;5;241m1\u001B[39m)] \u001B[38;5;241m=\u001B[39m names_indices_tensor[i, :]\n\u001B[0;32m     94\u001B[0m \u001B[38;5;66;03m# Passez à travers le modèle RNN avec embedding\u001B[39;00m\n\u001B[1;32m---> 95\u001B[0m output, _ \u001B[38;5;241m=\u001B[39m \u001B[43mrnn_with_embedding_model\u001B[49m\u001B[43m(\u001B[49m\u001B[43mflattened_indices\u001B[49m\u001B[43m,\u001B[49m\u001B[43m \u001B[49m\u001B[43mhidden\u001B[49m\u001B[43m)\u001B[49m\n\u001B[0;32m     96\u001B[0m loss \u001B[38;5;241m=\u001B[39m criterion(output, categories_tensor\u001B[38;5;241m.\u001B[39msqueeze())\n\u001B[0;32m     97\u001B[0m loss\u001B[38;5;241m.\u001B[39mbackward()\n",
      "File \u001B[1;32mc:\\users\\daoud\\appdata\\local\\programs\\python\\python39\\lib\\site-packages\\torch\\nn\\modules\\module.py:1518\u001B[0m, in \u001B[0;36mModule._wrapped_call_impl\u001B[1;34m(self, *args, **kwargs)\u001B[0m\n\u001B[0;32m   1516\u001B[0m     \u001B[38;5;28;01mreturn\u001B[39;00m \u001B[38;5;28mself\u001B[39m\u001B[38;5;241m.\u001B[39m_compiled_call_impl(\u001B[38;5;241m*\u001B[39margs, \u001B[38;5;241m*\u001B[39m\u001B[38;5;241m*\u001B[39mkwargs)  \u001B[38;5;66;03m# type: ignore[misc]\u001B[39;00m\n\u001B[0;32m   1517\u001B[0m \u001B[38;5;28;01melse\u001B[39;00m:\n\u001B[1;32m-> 1518\u001B[0m     \u001B[38;5;28;01mreturn\u001B[39;00m \u001B[38;5;28mself\u001B[39m\u001B[38;5;241m.\u001B[39m_call_impl(\u001B[38;5;241m*\u001B[39margs, \u001B[38;5;241m*\u001B[39m\u001B[38;5;241m*\u001B[39mkwargs)\n",
      "File \u001B[1;32mc:\\users\\daoud\\appdata\\local\\programs\\python\\python39\\lib\\site-packages\\torch\\nn\\modules\\module.py:1527\u001B[0m, in \u001B[0;36mModule._call_impl\u001B[1;34m(self, *args, **kwargs)\u001B[0m\n\u001B[0;32m   1522\u001B[0m \u001B[38;5;66;03m# If we don't have any hooks, we want to skip the rest of the logic in\u001B[39;00m\n\u001B[0;32m   1523\u001B[0m \u001B[38;5;66;03m# this function, and just call forward.\u001B[39;00m\n\u001B[0;32m   1524\u001B[0m \u001B[38;5;28;01mif\u001B[39;00m \u001B[38;5;129;01mnot\u001B[39;00m (\u001B[38;5;28mself\u001B[39m\u001B[38;5;241m.\u001B[39m_backward_hooks \u001B[38;5;129;01mor\u001B[39;00m \u001B[38;5;28mself\u001B[39m\u001B[38;5;241m.\u001B[39m_backward_pre_hooks \u001B[38;5;129;01mor\u001B[39;00m \u001B[38;5;28mself\u001B[39m\u001B[38;5;241m.\u001B[39m_forward_hooks \u001B[38;5;129;01mor\u001B[39;00m \u001B[38;5;28mself\u001B[39m\u001B[38;5;241m.\u001B[39m_forward_pre_hooks\n\u001B[0;32m   1525\u001B[0m         \u001B[38;5;129;01mor\u001B[39;00m _global_backward_pre_hooks \u001B[38;5;129;01mor\u001B[39;00m _global_backward_hooks\n\u001B[0;32m   1526\u001B[0m         \u001B[38;5;129;01mor\u001B[39;00m _global_forward_hooks \u001B[38;5;129;01mor\u001B[39;00m _global_forward_pre_hooks):\n\u001B[1;32m-> 1527\u001B[0m     \u001B[38;5;28;01mreturn\u001B[39;00m forward_call(\u001B[38;5;241m*\u001B[39margs, \u001B[38;5;241m*\u001B[39m\u001B[38;5;241m*\u001B[39mkwargs)\n\u001B[0;32m   1529\u001B[0m \u001B[38;5;28;01mtry\u001B[39;00m:\n\u001B[0;32m   1530\u001B[0m     result \u001B[38;5;241m=\u001B[39m \u001B[38;5;28;01mNone\u001B[39;00m\n",
      "Input \u001B[1;32mIn [56]\u001B[0m, in \u001B[0;36mRNNWithEmbedding.forward\u001B[1;34m(self, input, hidden)\u001B[0m\n\u001B[0;32m     55\u001B[0m embedded_input \u001B[38;5;241m=\u001B[39m \u001B[38;5;28mself\u001B[39m\u001B[38;5;241m.\u001B[39membedding(\u001B[38;5;28minput\u001B[39m)\n\u001B[0;32m     57\u001B[0m \u001B[38;5;66;03m# Passez à travers le modèle RNN\u001B[39;00m\n\u001B[1;32m---> 58\u001B[0m output, hidden \u001B[38;5;241m=\u001B[39m \u001B[38;5;28;43mself\u001B[39;49m\u001B[38;5;241;43m.\u001B[39;49m\u001B[43mrnn\u001B[49m\u001B[43m(\u001B[49m\u001B[43membedded_input\u001B[49m\u001B[43m,\u001B[49m\u001B[43m \u001B[49m\u001B[43mhidden\u001B[49m\u001B[43m)\u001B[49m\n\u001B[0;32m     60\u001B[0m \u001B[38;5;66;03m# Prenez seulement la dernière sortie\u001B[39;00m\n\u001B[0;32m     61\u001B[0m output \u001B[38;5;241m=\u001B[39m \u001B[38;5;28mself\u001B[39m\u001B[38;5;241m.\u001B[39mhidden_to_output(output[\u001B[38;5;241m-\u001B[39m\u001B[38;5;241m1\u001B[39m, :, :])\n",
      "File \u001B[1;32mc:\\users\\daoud\\appdata\\local\\programs\\python\\python39\\lib\\site-packages\\torch\\nn\\modules\\module.py:1518\u001B[0m, in \u001B[0;36mModule._wrapped_call_impl\u001B[1;34m(self, *args, **kwargs)\u001B[0m\n\u001B[0;32m   1516\u001B[0m     \u001B[38;5;28;01mreturn\u001B[39;00m \u001B[38;5;28mself\u001B[39m\u001B[38;5;241m.\u001B[39m_compiled_call_impl(\u001B[38;5;241m*\u001B[39margs, \u001B[38;5;241m*\u001B[39m\u001B[38;5;241m*\u001B[39mkwargs)  \u001B[38;5;66;03m# type: ignore[misc]\u001B[39;00m\n\u001B[0;32m   1517\u001B[0m \u001B[38;5;28;01melse\u001B[39;00m:\n\u001B[1;32m-> 1518\u001B[0m     \u001B[38;5;28;01mreturn\u001B[39;00m \u001B[38;5;28mself\u001B[39m\u001B[38;5;241m.\u001B[39m_call_impl(\u001B[38;5;241m*\u001B[39margs, \u001B[38;5;241m*\u001B[39m\u001B[38;5;241m*\u001B[39mkwargs)\n",
      "File \u001B[1;32mc:\\users\\daoud\\appdata\\local\\programs\\python\\python39\\lib\\site-packages\\torch\\nn\\modules\\module.py:1527\u001B[0m, in \u001B[0;36mModule._call_impl\u001B[1;34m(self, *args, **kwargs)\u001B[0m\n\u001B[0;32m   1522\u001B[0m \u001B[38;5;66;03m# If we don't have any hooks, we want to skip the rest of the logic in\u001B[39;00m\n\u001B[0;32m   1523\u001B[0m \u001B[38;5;66;03m# this function, and just call forward.\u001B[39;00m\n\u001B[0;32m   1524\u001B[0m \u001B[38;5;28;01mif\u001B[39;00m \u001B[38;5;129;01mnot\u001B[39;00m (\u001B[38;5;28mself\u001B[39m\u001B[38;5;241m.\u001B[39m_backward_hooks \u001B[38;5;129;01mor\u001B[39;00m \u001B[38;5;28mself\u001B[39m\u001B[38;5;241m.\u001B[39m_backward_pre_hooks \u001B[38;5;129;01mor\u001B[39;00m \u001B[38;5;28mself\u001B[39m\u001B[38;5;241m.\u001B[39m_forward_hooks \u001B[38;5;129;01mor\u001B[39;00m \u001B[38;5;28mself\u001B[39m\u001B[38;5;241m.\u001B[39m_forward_pre_hooks\n\u001B[0;32m   1525\u001B[0m         \u001B[38;5;129;01mor\u001B[39;00m _global_backward_pre_hooks \u001B[38;5;129;01mor\u001B[39;00m _global_backward_hooks\n\u001B[0;32m   1526\u001B[0m         \u001B[38;5;129;01mor\u001B[39;00m _global_forward_hooks \u001B[38;5;129;01mor\u001B[39;00m _global_forward_pre_hooks):\n\u001B[1;32m-> 1527\u001B[0m     \u001B[38;5;28;01mreturn\u001B[39;00m forward_call(\u001B[38;5;241m*\u001B[39margs, \u001B[38;5;241m*\u001B[39m\u001B[38;5;241m*\u001B[39mkwargs)\n\u001B[0;32m   1529\u001B[0m \u001B[38;5;28;01mtry\u001B[39;00m:\n\u001B[0;32m   1530\u001B[0m     result \u001B[38;5;241m=\u001B[39m \u001B[38;5;28;01mNone\u001B[39;00m\n",
      "File \u001B[1;32mc:\\users\\daoud\\appdata\\local\\programs\\python\\python39\\lib\\site-packages\\torch\\nn\\modules\\rnn.py:529\u001B[0m, in \u001B[0;36mRNN.forward\u001B[1;34m(self, input, hx)\u001B[0m\n\u001B[0;32m    527\u001B[0m     \u001B[38;5;28;01mif\u001B[39;00m hx \u001B[38;5;129;01mis\u001B[39;00m \u001B[38;5;129;01mnot\u001B[39;00m \u001B[38;5;28;01mNone\u001B[39;00m:\n\u001B[0;32m    528\u001B[0m         \u001B[38;5;28;01mif\u001B[39;00m hx\u001B[38;5;241m.\u001B[39mdim() \u001B[38;5;241m!=\u001B[39m \u001B[38;5;241m2\u001B[39m:\n\u001B[1;32m--> 529\u001B[0m             \u001B[38;5;28;01mraise\u001B[39;00m \u001B[38;5;167;01mRuntimeError\u001B[39;00m(\n\u001B[0;32m    530\u001B[0m                 \u001B[38;5;124mf\u001B[39m\u001B[38;5;124m\"\u001B[39m\u001B[38;5;124mFor unbatched 2-D input, hx should also be 2-D but got \u001B[39m\u001B[38;5;132;01m{\u001B[39;00mhx\u001B[38;5;241m.\u001B[39mdim()\u001B[38;5;132;01m}\u001B[39;00m\u001B[38;5;124m-D tensor\u001B[39m\u001B[38;5;124m\"\u001B[39m)\n\u001B[0;32m    531\u001B[0m         hx \u001B[38;5;241m=\u001B[39m hx\u001B[38;5;241m.\u001B[39munsqueeze(\u001B[38;5;241m1\u001B[39m)\n\u001B[0;32m    532\u001B[0m \u001B[38;5;28;01melse\u001B[39;00m:\n",
      "\u001B[1;31mRuntimeError\u001B[0m: For unbatched 2-D input, hx should also be 2-D but got 3-D tensor"
     ]
    }
   ],
   "source": [
    "# Construisez un ensemble de données avec embedding\n",
    "class NameDatasetWithEmbedding(Dataset):\n",
    "    def __init__(self, category_lines, all_categories, letter_to_index):\n",
    "        self.category_lines = category_lines\n",
    "        self.all_categories = all_categories\n",
    "        self.letter_to_index = letter_to_index\n",
    "        self.max_length = max(len(name) for names in category_lines.values() for name in names)\n",
    "\n",
    "    def __len__(self):\n",
    "        return sum(len(names) for names in self.category_lines.values())\n",
    "\n",
    "    def __getitem__(self, index):\n",
    "        category = random.choice(self.all_categories)\n",
    "        line = random.choice(self.category_lines[category])\n",
    "        category_tensor = torch.tensor([self.all_categories.index(category)], dtype=torch.int64)\n",
    "\n",
    "        # Convertissez la ligne en indices en utilisant le dictionnaire letter_to_index\n",
    "        line_indices = [self.letter_to_index[letter] for letter in line]\n",
    "\n",
    "        # Remplissez le reste du tensor avec des zéros pour correspondre à la longueur maximale\n",
    "        line_tensor = torch.zeros(self.max_length, dtype=torch.long)\n",
    "        line_tensor[:len(line_indices)] = torch.tensor(line_indices, dtype=torch.long)\n",
    "\n",
    "        return line_tensor, category_tensor\n",
    "\n",
    "\n",
    "# Créez un dictionnaire pour mapper chaque lettre à un indice\n",
    "letters = list(string.ascii_letters + \" .,;'\")\n",
    "letter_to_index = {letter: index for index, letter in enumerate(letters)}\n",
    "\n",
    "print(letters, letter_to_index)\n",
    "\n",
    "# Taille de l'embedding\n",
    "embedding_size = 10\n",
    "\n",
    "# Créez un exemple de dataset avec embedding\n",
    "embedding_dataset = NameDatasetWithEmbedding(category_lines, all_categories, letter_to_index)\n",
    "\n",
    "# Créez un dataloader pour l'exemple de dataset\n",
    "embedding_dataloader = DataLoader(embedding_dataset, batch_size=batch_size, shuffle=True)\n",
    "\n",
    "\n",
    "# Dans votre modèle RNN\n",
    "class RNNWithEmbedding(nn.Module):\n",
    "    def __init__(self, input_size, embedding_size, hidden_state_dim, output_size):\n",
    "        super(RNNWithEmbedding, self).__init__()\n",
    "        self.embedding = nn.Embedding(input_size, embedding_size)\n",
    "        self.hidden_size = hidden_state_dim\n",
    "        self.rnn = nn.RNN(embedding_size, hidden_state_dim)\n",
    "        self.hidden_to_output = nn.Linear(hidden_state_dim, output_size)\n",
    "        self.softmax = nn.LogSoftmax(dim=1)\n",
    "\n",
    "    def forward(self, input, hidden):\n",
    "        # Appliquez l'embedding à l'input\n",
    "        embedded_input = self.embedding(input)\n",
    "\n",
    "        # Passez à travers le modèle RNN\n",
    "        output, hidden = self.rnn(embedded_input, hidden)\n",
    "\n",
    "        # Prenez seulement la dernière sortie\n",
    "        output = self.hidden_to_output(output[-1, :, :])\n",
    "\n",
    "        # Appliquez la softmax\n",
    "        output = self.softmax(output)\n",
    "\n",
    "        return output, hidden\n",
    "\n",
    "    def init_hidden(self, batch_size):\n",
    "        # Initialiser l'état caché avec des zéros\n",
    "        return torch.zeros(1, batch_size, self.hidden_size)\n",
    "\n",
    "\n",
    "# Instanciez et entraînez votre modèle RNN avec embedding\n",
    "rnn_with_embedding_model = RNNWithEmbedding(len(letters), embedding_size, 128, n_categories)\n",
    "rnn_with_embedding_model.train()\n",
    "\n",
    "for epoch in range(n_epochs):\n",
    "\n",
    "    for names_tensor, categories_tensor in embedding_dataloader:\n",
    "        optimizer.zero_grad()\n",
    "        hidden = rnn_with_embedding_model.init_hidden(names_tensor.size(0))\n",
    "\n",
    "        # Obtenez les indices uniques par position dans la séquence\n",
    "        names_indices_tensor = names_tensor.permute(1, 0).long()\n",
    "\n",
    "        # Initialisez un tensor pour contenir les indices uniques\n",
    "        flattened_indices = torch.zeros(names_indices_tensor.size(0) * names_indices_tensor.size(1), dtype=torch.long)\n",
    "\n",
    "        # Remplissez le tensor avec les indices uniques\n",
    "        for i in range(names_indices_tensor.size(0)):\n",
    "            flattened_indices[\n",
    "            i * names_indices_tensor.size(1):(i + 1) * names_indices_tensor.size(1)] = names_indices_tensor[i, :]\n",
    "\n",
    "        # Passez à travers le modèle RNN avec embedding\n",
    "        output, _ = rnn_with_embedding_model(flattened_indices, hidden)\n",
    "        loss = criterion(output, categories_tensor.squeeze())\n",
    "        loss.backward()\n",
    "        optimizer.step()\n",
    "\n",
    "    # Évaluation à chaque epoch si nécessaire\n",
    "    if epoch % 100 == 0:\n",
    "        accuracy_rnn_with_embedding, _ = evaluate_model(rnn_with_embedding_model, test_dataloader)\n",
    "        print(f\"Epoch {epoch}/{n_epochs} - RNN with Embedding Model - Accuracy: {accuracy_rnn_with_embedding}\")\n"
   ]
  },
  {
   "cell_type": "markdown",
   "id": "508cc851",
   "metadata": {
    "pycharm": {
     "name": "#%% md\n"
    }
   },
   "source": [
    "Construisez un modèle RNN, où les lettres passent par l'embedding avant d'être envoyées dans les couches de RNN.\n",
    "Construisez une loop d'apprentissage\n",
    "\n",
    "Expérimentez plusieurs valeurs pour le nombre de couche, la taille d'embedding ou les tailles d'hidden state.<br>\n",
    "Quel neg log likelihood obtenez-vous ?"
   ]
  },
  {
   "cell_type": "code",
   "execution_count": 57,
   "outputs": [
    {
     "ename": "RuntimeError",
     "evalue": "Expected tensor for argument #1 'indices' to have one of the following scalar types: Long, Int; but got torch.FloatTensor instead (while checking arguments for embedding)",
     "output_type": "error",
     "traceback": [
      "\u001B[1;31m---------------------------------------------------------------------------\u001B[0m",
      "\u001B[1;31mRuntimeError\u001B[0m                              Traceback (most recent call last)",
      "Input \u001B[1;32mIn [57]\u001B[0m, in \u001B[0;36m<cell line: 30>\u001B[1;34m()\u001B[0m\n\u001B[0;32m     49\u001B[0m     \u001B[38;5;66;03m# Évaluation à chaque epoch si nécessaire\u001B[39;00m\n\u001B[0;32m     50\u001B[0m     \u001B[38;5;28;01mif\u001B[39;00m epoch \u001B[38;5;241m%\u001B[39m \u001B[38;5;241m100\u001B[39m \u001B[38;5;241m==\u001B[39m \u001B[38;5;241m0\u001B[39m:\n\u001B[1;32m---> 51\u001B[0m         accuracy, neg_log_likelihood \u001B[38;5;241m=\u001B[39m \u001B[43mevaluate_model\u001B[49m\u001B[43m(\u001B[49m\u001B[43mrnn_with_embedding_layers_model\u001B[49m\u001B[43m,\u001B[49m\u001B[43m \u001B[49m\u001B[43mtest_dataloader\u001B[49m\u001B[43m)\u001B[49m\n\u001B[0;32m     52\u001B[0m         \u001B[38;5;28mprint\u001B[39m(\u001B[38;5;124mf\u001B[39m\u001B[38;5;124m\"\u001B[39m\u001B[38;5;124mEpoch \u001B[39m\u001B[38;5;132;01m{\u001B[39;00mepoch\u001B[38;5;132;01m}\u001B[39;00m\u001B[38;5;124m/\u001B[39m\u001B[38;5;132;01m{\u001B[39;00mn_epochs\u001B[38;5;132;01m}\u001B[39;00m\u001B[38;5;124m - Accuracy: \u001B[39m\u001B[38;5;132;01m{\u001B[39;00maccuracy\u001B[38;5;132;01m}\u001B[39;00m\u001B[38;5;124m - Neg Log Likelihood: \u001B[39m\u001B[38;5;132;01m{\u001B[39;00mneg_log_likelihood\u001B[38;5;132;01m}\u001B[39;00m\u001B[38;5;124m\"\u001B[39m)\n\u001B[0;32m     54\u001B[0m \u001B[38;5;66;03m# Comparaison avec le meilleur modèle\u001B[39;00m\n",
      "Input \u001B[1;32mIn [52]\u001B[0m, in \u001B[0;36mevaluate_model\u001B[1;34m(model, dataloader)\u001B[0m\n\u001B[0;32m     14\u001B[0m hidden \u001B[38;5;241m=\u001B[39m model\u001B[38;5;241m.\u001B[39minit_hidden(batch_size)\n\u001B[0;32m     16\u001B[0m \u001B[38;5;66;03m# Passer à travers le modèle\u001B[39;00m\n\u001B[1;32m---> 17\u001B[0m output, _ \u001B[38;5;241m=\u001B[39m \u001B[43mmodel\u001B[49m\u001B[43m(\u001B[49m\u001B[43mnames_tensor\u001B[49m\u001B[38;5;241;43m.\u001B[39;49m\u001B[43mpermute\u001B[49m\u001B[43m(\u001B[49m\u001B[38;5;241;43m1\u001B[39;49m\u001B[43m,\u001B[49m\u001B[43m \u001B[49m\u001B[38;5;241;43m0\u001B[39;49m\u001B[43m,\u001B[49m\u001B[43m \u001B[49m\u001B[38;5;241;43m2\u001B[39;49m\u001B[43m)\u001B[49m\u001B[43m,\u001B[49m\u001B[43m \u001B[49m\u001B[43mhidden\u001B[49m\u001B[43m)\u001B[49m\n\u001B[0;32m     18\u001B[0m _, predictions \u001B[38;5;241m=\u001B[39m torch\u001B[38;5;241m.\u001B[39mmax(output, \u001B[38;5;241m1\u001B[39m)\n\u001B[0;32m     20\u001B[0m all_predictions\u001B[38;5;241m.\u001B[39mextend(predictions\u001B[38;5;241m.\u001B[39mtolist())\n",
      "File \u001B[1;32mc:\\users\\daoud\\appdata\\local\\programs\\python\\python39\\lib\\site-packages\\torch\\nn\\modules\\module.py:1518\u001B[0m, in \u001B[0;36mModule._wrapped_call_impl\u001B[1;34m(self, *args, **kwargs)\u001B[0m\n\u001B[0;32m   1516\u001B[0m     \u001B[38;5;28;01mreturn\u001B[39;00m \u001B[38;5;28mself\u001B[39m\u001B[38;5;241m.\u001B[39m_compiled_call_impl(\u001B[38;5;241m*\u001B[39margs, \u001B[38;5;241m*\u001B[39m\u001B[38;5;241m*\u001B[39mkwargs)  \u001B[38;5;66;03m# type: ignore[misc]\u001B[39;00m\n\u001B[0;32m   1517\u001B[0m \u001B[38;5;28;01melse\u001B[39;00m:\n\u001B[1;32m-> 1518\u001B[0m     \u001B[38;5;28;01mreturn\u001B[39;00m \u001B[38;5;28mself\u001B[39m\u001B[38;5;241m.\u001B[39m_call_impl(\u001B[38;5;241m*\u001B[39margs, \u001B[38;5;241m*\u001B[39m\u001B[38;5;241m*\u001B[39mkwargs)\n",
      "File \u001B[1;32mc:\\users\\daoud\\appdata\\local\\programs\\python\\python39\\lib\\site-packages\\torch\\nn\\modules\\module.py:1527\u001B[0m, in \u001B[0;36mModule._call_impl\u001B[1;34m(self, *args, **kwargs)\u001B[0m\n\u001B[0;32m   1522\u001B[0m \u001B[38;5;66;03m# If we don't have any hooks, we want to skip the rest of the logic in\u001B[39;00m\n\u001B[0;32m   1523\u001B[0m \u001B[38;5;66;03m# this function, and just call forward.\u001B[39;00m\n\u001B[0;32m   1524\u001B[0m \u001B[38;5;28;01mif\u001B[39;00m \u001B[38;5;129;01mnot\u001B[39;00m (\u001B[38;5;28mself\u001B[39m\u001B[38;5;241m.\u001B[39m_backward_hooks \u001B[38;5;129;01mor\u001B[39;00m \u001B[38;5;28mself\u001B[39m\u001B[38;5;241m.\u001B[39m_backward_pre_hooks \u001B[38;5;129;01mor\u001B[39;00m \u001B[38;5;28mself\u001B[39m\u001B[38;5;241m.\u001B[39m_forward_hooks \u001B[38;5;129;01mor\u001B[39;00m \u001B[38;5;28mself\u001B[39m\u001B[38;5;241m.\u001B[39m_forward_pre_hooks\n\u001B[0;32m   1525\u001B[0m         \u001B[38;5;129;01mor\u001B[39;00m _global_backward_pre_hooks \u001B[38;5;129;01mor\u001B[39;00m _global_backward_hooks\n\u001B[0;32m   1526\u001B[0m         \u001B[38;5;129;01mor\u001B[39;00m _global_forward_hooks \u001B[38;5;129;01mor\u001B[39;00m _global_forward_pre_hooks):\n\u001B[1;32m-> 1527\u001B[0m     \u001B[38;5;28;01mreturn\u001B[39;00m forward_call(\u001B[38;5;241m*\u001B[39margs, \u001B[38;5;241m*\u001B[39m\u001B[38;5;241m*\u001B[39mkwargs)\n\u001B[0;32m   1529\u001B[0m \u001B[38;5;28;01mtry\u001B[39;00m:\n\u001B[0;32m   1530\u001B[0m     result \u001B[38;5;241m=\u001B[39m \u001B[38;5;28;01mNone\u001B[39;00m\n",
      "Input \u001B[1;32mIn [57]\u001B[0m, in \u001B[0;36mRNNWithEmbeddingLayers.forward\u001B[1;34m(self, input, hidden)\u001B[0m\n\u001B[0;32m     11\u001B[0m \u001B[38;5;28;01mdef\u001B[39;00m \u001B[38;5;21mforward\u001B[39m(\u001B[38;5;28mself\u001B[39m, \u001B[38;5;28minput\u001B[39m, hidden):\n\u001B[1;32m---> 12\u001B[0m     embedded_input \u001B[38;5;241m=\u001B[39m \u001B[38;5;28;43mself\u001B[39;49m\u001B[38;5;241;43m.\u001B[39;49m\u001B[43membedding\u001B[49m\u001B[43m(\u001B[49m\u001B[38;5;28;43minput\u001B[39;49m\u001B[43m)\u001B[49m\n\u001B[0;32m     13\u001B[0m     output, hidden \u001B[38;5;241m=\u001B[39m \u001B[38;5;28mself\u001B[39m\u001B[38;5;241m.\u001B[39mrnn(embedded_input, hidden)\n\u001B[0;32m     14\u001B[0m     output \u001B[38;5;241m=\u001B[39m \u001B[38;5;28mself\u001B[39m\u001B[38;5;241m.\u001B[39mhidden_to_output(output[\u001B[38;5;241m-\u001B[39m\u001B[38;5;241m1\u001B[39m, :, :])\n",
      "File \u001B[1;32mc:\\users\\daoud\\appdata\\local\\programs\\python\\python39\\lib\\site-packages\\torch\\nn\\modules\\module.py:1518\u001B[0m, in \u001B[0;36mModule._wrapped_call_impl\u001B[1;34m(self, *args, **kwargs)\u001B[0m\n\u001B[0;32m   1516\u001B[0m     \u001B[38;5;28;01mreturn\u001B[39;00m \u001B[38;5;28mself\u001B[39m\u001B[38;5;241m.\u001B[39m_compiled_call_impl(\u001B[38;5;241m*\u001B[39margs, \u001B[38;5;241m*\u001B[39m\u001B[38;5;241m*\u001B[39mkwargs)  \u001B[38;5;66;03m# type: ignore[misc]\u001B[39;00m\n\u001B[0;32m   1517\u001B[0m \u001B[38;5;28;01melse\u001B[39;00m:\n\u001B[1;32m-> 1518\u001B[0m     \u001B[38;5;28;01mreturn\u001B[39;00m \u001B[38;5;28mself\u001B[39m\u001B[38;5;241m.\u001B[39m_call_impl(\u001B[38;5;241m*\u001B[39margs, \u001B[38;5;241m*\u001B[39m\u001B[38;5;241m*\u001B[39mkwargs)\n",
      "File \u001B[1;32mc:\\users\\daoud\\appdata\\local\\programs\\python\\python39\\lib\\site-packages\\torch\\nn\\modules\\module.py:1527\u001B[0m, in \u001B[0;36mModule._call_impl\u001B[1;34m(self, *args, **kwargs)\u001B[0m\n\u001B[0;32m   1522\u001B[0m \u001B[38;5;66;03m# If we don't have any hooks, we want to skip the rest of the logic in\u001B[39;00m\n\u001B[0;32m   1523\u001B[0m \u001B[38;5;66;03m# this function, and just call forward.\u001B[39;00m\n\u001B[0;32m   1524\u001B[0m \u001B[38;5;28;01mif\u001B[39;00m \u001B[38;5;129;01mnot\u001B[39;00m (\u001B[38;5;28mself\u001B[39m\u001B[38;5;241m.\u001B[39m_backward_hooks \u001B[38;5;129;01mor\u001B[39;00m \u001B[38;5;28mself\u001B[39m\u001B[38;5;241m.\u001B[39m_backward_pre_hooks \u001B[38;5;129;01mor\u001B[39;00m \u001B[38;5;28mself\u001B[39m\u001B[38;5;241m.\u001B[39m_forward_hooks \u001B[38;5;129;01mor\u001B[39;00m \u001B[38;5;28mself\u001B[39m\u001B[38;5;241m.\u001B[39m_forward_pre_hooks\n\u001B[0;32m   1525\u001B[0m         \u001B[38;5;129;01mor\u001B[39;00m _global_backward_pre_hooks \u001B[38;5;129;01mor\u001B[39;00m _global_backward_hooks\n\u001B[0;32m   1526\u001B[0m         \u001B[38;5;129;01mor\u001B[39;00m _global_forward_hooks \u001B[38;5;129;01mor\u001B[39;00m _global_forward_pre_hooks):\n\u001B[1;32m-> 1527\u001B[0m     \u001B[38;5;28;01mreturn\u001B[39;00m forward_call(\u001B[38;5;241m*\u001B[39margs, \u001B[38;5;241m*\u001B[39m\u001B[38;5;241m*\u001B[39mkwargs)\n\u001B[0;32m   1529\u001B[0m \u001B[38;5;28;01mtry\u001B[39;00m:\n\u001B[0;32m   1530\u001B[0m     result \u001B[38;5;241m=\u001B[39m \u001B[38;5;28;01mNone\u001B[39;00m\n",
      "File \u001B[1;32mc:\\users\\daoud\\appdata\\local\\programs\\python\\python39\\lib\\site-packages\\torch\\nn\\modules\\sparse.py:162\u001B[0m, in \u001B[0;36mEmbedding.forward\u001B[1;34m(self, input)\u001B[0m\n\u001B[0;32m    161\u001B[0m \u001B[38;5;28;01mdef\u001B[39;00m \u001B[38;5;21mforward\u001B[39m(\u001B[38;5;28mself\u001B[39m, \u001B[38;5;28minput\u001B[39m: Tensor) \u001B[38;5;241m-\u001B[39m\u001B[38;5;241m>\u001B[39m Tensor:\n\u001B[1;32m--> 162\u001B[0m     \u001B[38;5;28;01mreturn\u001B[39;00m \u001B[43mF\u001B[49m\u001B[38;5;241;43m.\u001B[39;49m\u001B[43membedding\u001B[49m\u001B[43m(\u001B[49m\n\u001B[0;32m    163\u001B[0m \u001B[43m        \u001B[49m\u001B[38;5;28;43minput\u001B[39;49m\u001B[43m,\u001B[49m\u001B[43m \u001B[49m\u001B[38;5;28;43mself\u001B[39;49m\u001B[38;5;241;43m.\u001B[39;49m\u001B[43mweight\u001B[49m\u001B[43m,\u001B[49m\u001B[43m \u001B[49m\u001B[38;5;28;43mself\u001B[39;49m\u001B[38;5;241;43m.\u001B[39;49m\u001B[43mpadding_idx\u001B[49m\u001B[43m,\u001B[49m\u001B[43m \u001B[49m\u001B[38;5;28;43mself\u001B[39;49m\u001B[38;5;241;43m.\u001B[39;49m\u001B[43mmax_norm\u001B[49m\u001B[43m,\u001B[49m\n\u001B[0;32m    164\u001B[0m \u001B[43m        \u001B[49m\u001B[38;5;28;43mself\u001B[39;49m\u001B[38;5;241;43m.\u001B[39;49m\u001B[43mnorm_type\u001B[49m\u001B[43m,\u001B[49m\u001B[43m \u001B[49m\u001B[38;5;28;43mself\u001B[39;49m\u001B[38;5;241;43m.\u001B[39;49m\u001B[43mscale_grad_by_freq\u001B[49m\u001B[43m,\u001B[49m\u001B[43m \u001B[49m\u001B[38;5;28;43mself\u001B[39;49m\u001B[38;5;241;43m.\u001B[39;49m\u001B[43msparse\u001B[49m\u001B[43m)\u001B[49m\n",
      "File \u001B[1;32mc:\\users\\daoud\\appdata\\local\\programs\\python\\python39\\lib\\site-packages\\torch\\nn\\functional.py:2233\u001B[0m, in \u001B[0;36membedding\u001B[1;34m(input, weight, padding_idx, max_norm, norm_type, scale_grad_by_freq, sparse)\u001B[0m\n\u001B[0;32m   2227\u001B[0m     \u001B[38;5;66;03m# Note [embedding_renorm set_grad_enabled]\u001B[39;00m\n\u001B[0;32m   2228\u001B[0m     \u001B[38;5;66;03m# XXX: equivalent to\u001B[39;00m\n\u001B[0;32m   2229\u001B[0m     \u001B[38;5;66;03m# with torch.no_grad():\u001B[39;00m\n\u001B[0;32m   2230\u001B[0m     \u001B[38;5;66;03m#   torch.embedding_renorm_\u001B[39;00m\n\u001B[0;32m   2231\u001B[0m     \u001B[38;5;66;03m# remove once script supports set_grad_enabled\u001B[39;00m\n\u001B[0;32m   2232\u001B[0m     _no_grad_embedding_renorm_(weight, \u001B[38;5;28minput\u001B[39m, max_norm, norm_type)\n\u001B[1;32m-> 2233\u001B[0m \u001B[38;5;28;01mreturn\u001B[39;00m \u001B[43mtorch\u001B[49m\u001B[38;5;241;43m.\u001B[39;49m\u001B[43membedding\u001B[49m\u001B[43m(\u001B[49m\u001B[43mweight\u001B[49m\u001B[43m,\u001B[49m\u001B[43m \u001B[49m\u001B[38;5;28;43minput\u001B[39;49m\u001B[43m,\u001B[49m\u001B[43m \u001B[49m\u001B[43mpadding_idx\u001B[49m\u001B[43m,\u001B[49m\u001B[43m \u001B[49m\u001B[43mscale_grad_by_freq\u001B[49m\u001B[43m,\u001B[49m\u001B[43m \u001B[49m\u001B[43msparse\u001B[49m\u001B[43m)\u001B[49m\n",
      "\u001B[1;31mRuntimeError\u001B[0m: Expected tensor for argument #1 'indices' to have one of the following scalar types: Long, Int; but got torch.FloatTensor instead (while checking arguments for embedding)"
     ]
    }
   ],
   "source": [
    "import torch.nn.functional as F\n",
    "\n",
    "\n",
    "class RNNWithEmbeddingLayers(nn.Module):\n",
    "    def __init__(self, input_size, embedding_size, hidden_state_dim, output_size, num_layers=1):\n",
    "        super(RNNWithEmbeddingLayers, self).__init__()\n",
    "        self.embedding = nn.Embedding(input_size, embedding_size)\n",
    "        self.rnn = nn.RNN(embedding_size, hidden_state_dim, num_layers=num_layers)\n",
    "        self.hidden_to_output = nn.Linear(hidden_state_dim, output_size)\n",
    "\n",
    "    def forward(self, input, hidden):\n",
    "        embedded_input = self.embedding(input)\n",
    "        output, hidden = self.rnn(embedded_input, hidden)\n",
    "        output = self.hidden_to_output(output[-1, :, :])\n",
    "        output = F.log_softmax(output, dim=1)\n",
    "        return output, hidden\n",
    "\n",
    "    def init_hidden(self, batch_size):\n",
    "        return torch.zeros(self.rnn.num_layers, batch_size, self.rnn.hidden_size)\n",
    "\n",
    "\n",
    "# Instanciez et entraînez votre modèle RNN avec embedding et couches RNN\n",
    "num_layers_values = [1, 2, 3]  # Expérimentez avec différentes valeurs\n",
    "embedding_size_values = [16, 32, 64]  # Expérimentez avec différentes valeurs\n",
    "hidden_state_dim_values = [64, 128, 256]  # Expérimentez avec différentes valeurs\n",
    "\n",
    "best_model = None\n",
    "best_neg_log_likelihood = float('inf')\n",
    "\n",
    "for num_layers in num_layers_values:\n",
    "    for embedding_size in embedding_size_values:\n",
    "        for hidden_state_dim in hidden_state_dim_values:\n",
    "            rnn_with_embedding_layers_model = RNNWithEmbeddingLayers(len(letters), embedding_size, hidden_state_dim,\n",
    "                                                                     n_categories, num_layers)\n",
    "            rnn_with_embedding_layers_model.train()\n",
    "\n",
    "            optimizer = torch.optim.Adam(rnn_with_embedding_layers_model.parameters(), lr=learning_rate)\n",
    "\n",
    "            for epoch in range(n_epochs):\n",
    "                for names_tensor, categories_tensor in embedding_dataloader:\n",
    "                    optimizer.zero_grad()\n",
    "                    hidden = rnn_with_embedding_layers_model.init_hidden(names_tensor.size(0))\n",
    "                    output, _ = rnn_with_embedding_layers_model(names_tensor.permute(1, 0).long(), hidden)\n",
    "\n",
    "                    loss = criterion(output, categories_tensor.squeeze())\n",
    "                    loss.backward()\n",
    "                    optimizer.step()\n",
    "\n",
    "                # Évaluation à chaque epoch si nécessaire\n",
    "                if epoch % 100 == 0:\n",
    "                    accuracy, neg_log_likelihood = evaluate_model(rnn_with_embedding_layers_model, test_dataloader)\n",
    "                    print(f\"Epoch {epoch}/{n_epochs} - Accuracy: {accuracy} - Neg Log Likelihood: {neg_log_likelihood}\")\n",
    "\n",
    "            # Comparaison avec le meilleur modèle\n",
    "            if neg_log_likelihood < best_neg_log_likelihood:\n",
    "                best_neg_log_likelihood = neg_log_likelihood\n",
    "                best_model = rnn_with_embedding_layers_model\n",
    "\n",
    "# Affichage du meilleur modèle et de sa performance\n",
    "print(\"Best Model:\")\n",
    "print(best_model)\n",
    "accuracy, neg_log_likelihood = evaluate_model(best_model, test_dataloader)\n",
    "print(f\"Best Model - Accuracy: {accuracy} - Best Model - Neg Log Likelihood: {neg_log_likelihood}\")"
   ],
   "metadata": {
    "collapsed": false,
    "pycharm": {
     "name": "#%%\n"
    }
   }
  }
 ],
 "metadata": {
  "kernelspec": {
   "display_name": "Python 3 (ipykernel)",
   "language": "python",
   "name": "python3"
  },
  "language_info": {
   "codemirror_mode": {
    "name": "ipython",
    "version": 3
   },
   "file_extension": ".py",
   "mimetype": "text/x-python",
   "name": "python",
   "nbconvert_exporter": "python",
   "pygments_lexer": "ipython3",
   "version": "3.10.12"
  }
 },
 "nbformat": 4,
 "nbformat_minor": 5
}